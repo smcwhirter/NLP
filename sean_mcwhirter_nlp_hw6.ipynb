{
 "cells": [
  {
   "cell_type": "markdown",
   "metadata": {},
   "source": [
    "# Sean McWhirter\n",
    "\n",
    "# NLP Homework 6"
   ]
  },
  {
   "cell_type": "code",
   "execution_count": 1,
   "metadata": {},
   "outputs": [],
   "source": [
    "import pandas as pd"
   ]
  },
  {
   "cell_type": "markdown",
   "metadata": {},
   "source": [
    "# 1) A.\n",
    ">a.\tDo a book search on Amazon. Manually copy the full book title (including subtitle) of each of the top 24 books listed in the first two pages of search results. "
   ]
  },
  {
   "cell_type": "markdown",
   "metadata": {},
   "source": [
    "For the book search, I searched \"mystery books.\" In amazon and coppied the top 25 books from the search results."
   ]
  },
  {
   "cell_type": "code",
   "execution_count": 2,
   "metadata": {},
   "outputs": [],
   "source": [
    "df = pd.read_excel(r'C:\\Users\\seans\\Desktop\\NLP\\HW6\\mystery_books.xlsx', header=None)\n",
    "\n",
    "#convert to list to iterate through\n",
    "book_list = df[0].tolist()"
   ]
  },
  {
   "cell_type": "code",
   "execution_count": 3,
   "metadata": {},
   "outputs": [
    {
     "name": "stdout",
     "output_type": "stream",
     "text": [
      "Number of Titles: 25\n",
      "Titles:  ['ghost platoon', 'cold lake (david wolf book  5)', 'the preference: a holly jennings thriller', 'the housekeeper: a twisted psychological thriller', 'midwinter murder: fireside tales from the queen of mystery', 'the perfect wife (a jessie hunt psychological suspense thriller)', 'if she knw (a kate wise mystery)', 'never look back', 'a time for mercy (jake brigance book 3)', 'then she was gone: a novel', 'i am watching you', 'a to z mysteries series 26 books set the complete collection dink josh ruth rose', 'christmas cupkake murder: a festive & delicious christmas cozy mystery (a hannah swensen mystery book)', 'all the devils are here: a novel (chief inspector gamache novel book 16)', 'murder in the manor (a lacey doyle cozy mystery)', 'thin air (jessica shaw book 1)', 'the dancing girls: an absolutely gripping crime thriller with nail-biting suspense', \"my sister's grave (tracy crosswhite book 1)\", 'the girl who lived: a thrilling suspense novel', 'the atlantis gene: a thriller (the origin mystery)', 'taken to the grave: a completely unputdownable mystery thriller (a detective jo fournier novel book)', 'murder at an irish christmas (an irish village mystery book)', 'the mystery virus: a coronavirus exploration for kids', 'the midwife murders', 'The mystery of mrs. christie: a novel']\n"
     ]
    }
   ],
   "source": [
    "book_list\n",
    "print(\"Number of Titles:\",len(book_list))\n",
    "print(\"Titles: \", book_list)"
   ]
  },
  {
   "cell_type": "markdown",
   "metadata": {},
   "source": [
    "# 1) B. \n",
    ">In Python, run one of the text-similarity measures covered in this course, e.g., cosine similarity. Compare each of the book titles, pairwise, to every other one. "
   ]
  },
  {
   "cell_type": "code",
   "execution_count": 11,
   "metadata": {},
   "outputs": [],
   "source": [
    "#https://stackoverflow.com/questions/12118720/python-tf-idf-cosine-to-find-document-similarity\n",
    "\n",
    "from sklearn.feature_extraction.text import CountVectorizer\n",
    "from sklearn.feature_extraction.text import TfidfTransformer\n",
    "from nltk.corpus import stopwords\n",
    "import numpy as np\n",
    "import numpy.linalg as LA\n",
    "from nltk.tokenize import word_tokenize\n",
    "import string"
   ]
  },
  {
   "cell_type": "code",
   "execution_count": 12,
   "metadata": {},
   "outputs": [],
   "source": [
    "#set stopwords as a variable\n",
    "sw = stopwords.words('english')"
   ]
  },
  {
   "cell_type": "code",
   "execution_count": 21,
   "metadata": {},
   "outputs": [],
   "source": [
    "#code adapted from: https://towardsdatascience.com/calculating-string-similarity-in-python-276e18a7d33a\n",
    "\n",
    "#function to clean the titles up\n",
    "def clean_titles(x):\n",
    "    tmp = ''.join([i for i in x if i not in string.punctuation])\n",
    "    tmp = tmp.lower()\n",
    "    tmp = ' '.join(i for i in tmp.split() if i not in sw)\n",
    "    return tmp"
   ]
  },
  {
   "cell_type": "code",
   "execution_count": 22,
   "metadata": {},
   "outputs": [],
   "source": [
    "title_list_clean = list(map(clean_titles,book_list))"
   ]
  },
  {
   "cell_type": "code",
   "execution_count": 23,
   "metadata": {},
   "outputs": [
    {
     "data": {
      "text/plain": [
       "['ghost platoon',\n",
       " 'cold lake david wolf book 5',\n",
       " 'preference holly jennings thriller',\n",
       " 'housekeeper twisted psychological thriller',\n",
       " 'midwinter murder fireside tales queen mystery',\n",
       " 'perfect wife jessie hunt psychological suspense thriller',\n",
       " 'knw kate wise mystery',\n",
       " 'never look back',\n",
       " 'time mercy jake brigance book 3',\n",
       " 'gone novel',\n",
       " 'watching',\n",
       " 'z mysteries series 26 books set complete collection dink josh ruth rose',\n",
       " 'christmas cupkake murder festive delicious christmas cozy mystery hannah swensen mystery book',\n",
       " 'devils novel chief inspector gamache novel book 16',\n",
       " 'murder manor lacey doyle cozy mystery',\n",
       " 'thin air jessica shaw book 1',\n",
       " 'dancing girls absolutely gripping crime thriller nailbiting suspense',\n",
       " 'sisters grave tracy crosswhite book 1',\n",
       " 'girl lived thrilling suspense novel',\n",
       " 'atlantis gene thriller origin mystery',\n",
       " 'taken grave completely unputdownable mystery thriller detective jo fournier novel book',\n",
       " 'murder irish christmas irish village mystery book',\n",
       " 'mystery virus coronavirus exploration kids',\n",
       " 'midwife murders',\n",
       " 'mystery mrs christie novel']"
      ]
     },
     "execution_count": 23,
     "metadata": {},
     "output_type": "execute_result"
    }
   ],
   "source": [
    "#Double check that our list is cleaned (all lower and no punctuation)\n",
    "title_list_clean"
   ]
  },
  {
   "cell_type": "code",
   "execution_count": 33,
   "metadata": {},
   "outputs": [],
   "source": [
    "#import cosine simliarity\n",
    "from sklearn.metrics.pairwise import cosine_similarity"
   ]
  },
  {
   "cell_type": "code",
   "execution_count": 34,
   "metadata": {},
   "outputs": [],
   "source": [
    "#Create our matrix of word appearances\n",
    "vec = CountVectorizer().fit_transform(title_list_clean)\n",
    "vecs = vec.toarray()"
   ]
  },
  {
   "cell_type": "code",
   "execution_count": 35,
   "metadata": {},
   "outputs": [
    {
     "data": {
      "text/plain": [
       "(25, 100)"
      ]
     },
     "execution_count": 35,
     "metadata": {},
     "output_type": "execute_result"
    }
   ],
   "source": [
    "#Shape of our vector matrix\n",
    "vecs.shape"
   ]
  },
  {
   "cell_type": "code",
   "execution_count": 36,
   "metadata": {
    "scrolled": true
   },
   "outputs": [
    {
     "data": {
      "text/plain": [
       "array([[1.        , 0.        , 0.        , 0.        , 0.        ,\n",
       "        0.        , 0.        , 0.        , 0.        , 0.        ,\n",
       "        0.        , 0.        , 0.        , 0.        , 0.        ,\n",
       "        0.        , 0.        , 0.        , 0.        , 0.        ,\n",
       "        0.        , 0.        , 0.        , 0.        , 0.        ],\n",
       "       [0.        , 1.        , 0.        , 0.        , 0.        ,\n",
       "        0.        , 0.        , 0.        , 0.2       , 0.        ,\n",
       "        0.        , 0.        , 0.1118034 , 0.14142136, 0.        ,\n",
       "        0.2       , 0.        , 0.2       , 0.        , 0.        ,\n",
       "        0.13483997, 0.1490712 , 0.        , 0.        , 0.        ]])"
      ]
     },
     "execution_count": 36,
     "metadata": {},
     "output_type": "execute_result"
    }
   ],
   "source": [
    "#Cosine similarity of the titles\n",
    "cos_similarity = cosine_similarity(vecs)\n",
    "\n",
    "#Examine the first two titles of the matrix\n",
    "cos_similarity[:2,:]"
   ]
  },
  {
   "cell_type": "code",
   "execution_count": 38,
   "metadata": {},
   "outputs": [
    {
     "data": {
      "text/plain": [
       "(25, 25)"
      ]
     },
     "execution_count": 38,
     "metadata": {},
     "output_type": "execute_result"
    }
   ],
   "source": [
    "#Create function to compare pairwise:\n",
    "cos_similarity.shape"
   ]
  },
  {
   "cell_type": "markdown",
   "metadata": {},
   "source": [
    "# 1) C.\n",
    ">Which two titles are the most similar to each other? Which are the most dissimilar? Where do they rank, among the first 24 results?"
   ]
  },
  {
   "cell_type": "code",
   "execution_count": 39,
   "metadata": {},
   "outputs": [],
   "source": [
    "import seaborn as sns\n",
    "import matplotlib.pyplot as plt"
   ]
  },
  {
   "cell_type": "code",
   "execution_count": 53,
   "metadata": {},
   "outputs": [
    {
     "data": {
      "text/plain": [
       "<matplotlib.axes._subplots.AxesSubplot at 0x18b19c98648>"
      ]
     },
     "execution_count": 53,
     "metadata": {},
     "output_type": "execute_result"
    },
    {
     "data": {
      "image/png": "[encoded data removed]",
      "text/plain": [
       "<Figure size 792x648 with 2 Axes>"
      ]
     },
     "metadata": {
      "needs_background": "light"
     },
     "output_type": "display_data"
    }
   ],
   "source": [
    "#code adapted from: https://seaborn.pydata.org/examples/many_pairwise_correlations.html\n",
    "\n",
    "f, ax = plt.subplots(figsize=(11,9))\n",
    "\n",
    "cmap = sns.diverging_palette(230, 20, as_cmap=True)\n",
    "sns.heatmap(cos_similarity, cmap=cmap)"
   ]
  },
  {
   "cell_type": "markdown",
   "metadata": {},
   "source": [
    "Judging by our heatmap, we can easily tell that (21, 12), or (12,21) since it's a symmetric matrix, have the highest value.  Let's inspect these titles."
   ]
  },
  {
   "cell_type": "code",
   "execution_count": 125,
   "metadata": {},
   "outputs": [
    {
     "name": "stdout",
     "output_type": "stream",
     "text": [
      "Score:  0.49999999999999994\n",
      "\n",
      "Title 12:\n",
      " christmas cupkake murder: a festive & delicious christmas cozy mystery (a hannah swensen mystery book) \n",
      " Title 21: \n",
      " murder at an irish christmas (an irish village mystery book)\n"
     ]
    }
   ],
   "source": [
    "print(\"Score: \", cos_similarity[12,21])\n",
    "print(\"\\nTitle 12:\\n\", book_list[12],\"\\n\",\"Title 21: \\n\",book_list[21])"
   ]
  },
  {
   "cell_type": "markdown",
   "metadata": {},
   "source": [
    "This seems to make sense due to the overlap of murder, christmas, mystery, and book. These title values are the rank they appeared in, so eleven books apart, which is quite far."
   ]
  },
  {
   "cell_type": "code",
   "execution_count": 48,
   "metadata": {},
   "outputs": [
    {
     "name": "stdout",
     "output_type": "stream",
     "text": [
      "(0, 1)\n"
     ]
    }
   ],
   "source": [
    "#https://stackoverflow.com/questions/30180241/numpy-get-the-column-and-row-index-of-the-minimum-value-of-a-2d-array\n",
    "\n",
    "#Find the minimum value\n",
    "print(np.unravel_index(cos_similarity.argmin(), cos_similarity.shape))"
   ]
  },
  {
   "cell_type": "markdown",
   "metadata": {},
   "source": [
    "Judging by the heatmap, there are multiple zero values, but (0,1) shows to be the initial zero value."
   ]
  },
  {
   "cell_type": "code",
   "execution_count": 57,
   "metadata": {},
   "outputs": [
    {
     "name": "stdout",
     "output_type": "stream",
     "text": [
      "Title 0:\n",
      " ghost platoon \n",
      " Title 1: \n",
      " cold lake (david wolf book  5)\n"
     ]
    }
   ],
   "source": [
    "print(\"Title 0:\\n\", book_list[0],\"\\n\",\"Title 1: \\n\",book_list[1])"
   ]
  },
  {
   "cell_type": "markdown",
   "metadata": {},
   "source": [
    "This also makes sense due to the zero overlap of words.  These wre the first two titles of the book search."
   ]
  },
  {
   "cell_type": "markdown",
   "metadata": {},
   "source": [
    "# 2) A.\n",
    ">a.\tEnter one of the book titles from question 1a into Google, Bing, or Yahoo!. Copy the capsule of the first organic result and the 20th organic result. Take web results only (i.e., not video results), and skip sponsored results. "
   ]
  },
  {
   "cell_type": "code",
   "execution_count": 116,
   "metadata": {},
   "outputs": [],
   "source": [
    "#Title used for search (Google)\n",
    "Title = \"the preference: a holly jennings thriller\"\n",
    "\n",
    "#1st organic reslt\n",
    "first = \"\"\" Amazon.com: The Preference: A Holly Jennings Thriller (9781701567887): Alexander, A.K.: Books.\"\"\"\n",
    "#20th organic result\n",
    "twentieth = \"\"\"Flight 12: A PSI Thriller (Unabridged). 2015 \n",
    "See No Evil (Unabridged). 2016 \n",
    "The Preference: A Holly Jennings Thriller (Unabridged). 2015 · Hear No Evil: The\"\"\""
   ]
  },
  {
   "cell_type": "markdown",
   "metadata": {},
   "source": [
    "# 2) B.\n",
    ">b.\tRun the same text similarity calculation that you used for question 1b on each of these capsules in comparison to the original query (book title). "
   ]
  },
  {
   "cell_type": "code",
   "execution_count": 117,
   "metadata": {},
   "outputs": [],
   "source": [
    "capsules = [Title, first, twentieth]\n",
    "\n",
    "#code adapted from: https://towardsdatascience.com/calculating-string-similarity-in-python-276e18a7d33a\n",
    "\n",
    "#function to clean the capsules up\n",
    "def clean_string(x):\n",
    "    tmp = ''.join([i for i in x if i not in string.punctuation])\n",
    "    tmp = tmp.lower()\n",
    "    tmp = ' '.join(i for i in tmp.split() if i not in sw)\n",
    "    return tmp\n",
    "\n",
    "capsules_clean = list(map(clean_string,capsules))"
   ]
  },
  {
   "cell_type": "code",
   "execution_count": 118,
   "metadata": {},
   "outputs": [
    {
     "data": {
      "text/plain": [
       "['preference holly jennings thriller',\n",
       " 'amazoncom preference holly jennings thriller 9781701567887 alexander ak books',\n",
       " 'flight 12 psi thriller unabridged 2015 see evil unabridged 2016 preference holly jennings thriller unabridged 2015 · hear evil']"
      ]
     },
     "execution_count": 118,
     "metadata": {},
     "output_type": "execute_result"
    }
   ],
   "source": [
    "capsules_clean"
   ]
  },
  {
   "cell_type": "code",
   "execution_count": 119,
   "metadata": {},
   "outputs": [],
   "source": [
    "#Create our matrix of word appearances\n",
    "c_vec = CountVectorizer().fit_transform(capsules_clean)\n",
    "cap_vecs = c_vec.toarray()"
   ]
  },
  {
   "cell_type": "code",
   "execution_count": 121,
   "metadata": {},
   "outputs": [],
   "source": [
    "#Code adapted from: https://towardsdatascience.com/calculating-string-similarity-in-python-276e18a7d33a\n",
    "\n",
    "#Funciton to compare the two results to the title\n",
    "def capsule_cossim_vecs(x, y):\n",
    "    x = x.reshape(1,-1)\n",
    "    y = y.reshape(1,-1)\n",
    "    return cosine_similarity(x,y)[0][0]"
   ]
  },
  {
   "cell_type": "markdown",
   "metadata": {},
   "source": [
    "# 2) C.\n",
    ">c.\tWhich one has the highest similarity measure? "
   ]
  },
  {
   "cell_type": "code",
   "execution_count": 122,
   "metadata": {},
   "outputs": [
    {
     "data": {
      "text/plain": [
       "0.6666666666666666"
      ]
     },
     "execution_count": 122,
     "metadata": {},
     "output_type": "execute_result"
    }
   ],
   "source": [
    "#Title versus 1st capsule\n",
    "capsule_cossim_vecs(cap_vecs[0],cap_vecs[1])"
   ]
  },
  {
   "cell_type": "code",
   "execution_count": 123,
   "metadata": {},
   "outputs": [
    {
     "data": {
      "text/plain": [
       "0.4564354645876384"
      ]
     },
     "execution_count": 123,
     "metadata": {},
     "output_type": "execute_result"
    }
   ],
   "source": [
    "#Title versus 20th capsule\n",
    "capsule_cossim_vecs(cap_vecs[0],cap_vecs[2])"
   ]
  },
  {
   "cell_type": "markdown",
   "metadata": {},
   "source": [
    "As I expected, the 1st organic search result capsule provided a much higher cosine similarity score than the 20th.  However, the 20th capsule provided a much higher score than I had anticipated.  "
   ]
  },
  {
   "cell_type": "markdown",
   "metadata": {},
   "source": [
    "# 3)\n",
    ">Submit all of your inputs and outputs and your code for this assignment, along with a brief written explanation of your findings. "
   ]
  },
  {
   "cell_type": "markdown",
   "metadata": {},
   "source": [
    "Overall, my findings were not too surprising.   For problem #1, the highest cosine similarity score between two titles was 0.50 (rounding). I am not surprised that I didn't see any scores over the 0.5-range, as many titles are just very wordy.  However, I did expect to see more higher scores given the genre-based search of 'mystery books' on Amazon.  Unsurprisingly, the lowest score was 0, and there were many of those.  I presupposed that most mystery books would share similar titles, but I guess they aren't too similar after all. \n",
    "\n",
    "The Google search results did not surprise me at all for problem #2.  The first organic search result had a cosine similarity score of 0.67, and the 20th had a score of 0.46. I would assume that you would want to provide search results with a great deal of the same words as the search term.  I did think that the score for the 20th result would be lower. "
   ]
  },
  {
   "cell_type": "code",
   "execution_count": null,
   "metadata": {},
   "outputs": [],
   "source": []
  }
 ],
 "metadata": {
  "kernelspec": {
   "display_name": "Python 3",
   "language": "python",
   "name": "python3"
  },
  "language_info": {
   "codemirror_mode": {
    "name": "ipython",
    "version": 3
   },
   "file_extension": ".py",
   "mimetype": "text/x-python",
   "name": "python",
   "nbconvert_exporter": "python",
   "pygments_lexer": "ipython3",
   "version": "3.7.4"
  }
 },
 "nbformat": 4,
 "nbformat_minor": 2
}

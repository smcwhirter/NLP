{
 "cells": [
  {
   "cell_type": "code",
   "execution_count": 81,
   "metadata": {},
   "outputs": [
    {
     "name": "stderr",
     "output_type": "stream",
     "text": [
      "[nltk_data] Downloading package averaged_perceptron_tagger to\n",
      "[nltk_data]     C:\\Users\\seans\\AppData\\Roaming\\nltk_data...\n",
      "[nltk_data]   Package averaged_perceptron_tagger is already up-to-\n",
      "[nltk_data]       date!\n"
     ]
    }
   ],
   "source": [
    "from nltk.metrics import *\n",
    "import nltk\n",
    "nltk.download('averaged_perceptron_tagger')\n",
    "import re\n",
    "from nltk.corpus import stopwords\n",
    "from nltk.tokenize import word_tokenize\n",
    "from string import punctuation\n",
    "import pprint"
   ]
  },
  {
   "cell_type": "markdown",
   "metadata": {},
   "source": [
    "To get the text for this assingment, I Googled \"random news article.\"\n",
    "\n",
    "link to news article: https://www.npr.org/2020/09/27/917556254/paradox-free-time-travel-is-theoretically-possible-researchers-say"
   ]
  },
  {
   "cell_type": "code",
   "execution_count": 82,
   "metadata": {},
   "outputs": [],
   "source": [
    "#Text\n",
    "\n",
    "text = \"\"\"\"The past is obdurate,\" Stephen King wrote in his book about a man who goes \n",
    "back in time to prevent the Kennedy assassination. \"It doesn't want to be changed.\"\n",
    "Turns out, King might have been on to something.  Countless science fiction tales have explored \n",
    "the paradox of what would happen if you went back in time and did something in the past that endangered \n",
    "the future. Perhaps one of the most famous pop culture examples is in Back to the Future, when Marty McFly \n",
    "goes back in time and accidentally stops his parents from meeting, putting his own existence in jeopardy.\n",
    "\n",
    "But maybe McFly wasn't in much danger after all. According a new paper from researchers at the University of \n",
    "Queensland, even if time travel were possible, the paradox couldn't actually exist.  Researchers ran the numbers \n",
    "and determined that even if you made a change in the past, the timeline would essentially self-correct, ensuring \n",
    "that whatever happened to send you back in time would still happen.\n",
    "\n",
    "\"Say you traveled in time in an attempt to stop COVID-19's patient zero from being exposed to the virus,\" University \n",
    "of Queensland scientist Fabio Costa told the university's news service.\"\"\""
   ]
  },
  {
   "cell_type": "code",
   "execution_count": 83,
   "metadata": {},
   "outputs": [
    {
     "name": "stdout",
     "output_type": "stream",
     "text": [
      "text imput: \"The past is obdurate,\" Stephen King wrote in his book about a man who goes \n",
      "back in time to prevent the Kennedy assassination. \"It doesn't want to be changed.\"\n",
      "Turns out, King might have been on to something.  Countless science fiction tales have explored \n",
      "the paradox of what would happen if you went back in time and did something in the past that endangered \n",
      "the future. Perhaps one of the most famous pop culture examples is in Back to the Future, when Marty McFly \n",
      "goes back in time and accidentally stops his parents from meeting, putting his own existence in jeopardy.\n",
      "\n",
      "But maybe McFly wasn't in much danger after all. According a new paper from researchers at the University of \n",
      "Queensland, even if time travel were possible, the paradox couldn't actually exist.  Researchers ran the numbers \n",
      "and determined that even if you made a change in the past, the timeline would essentially self-correct, ensuring \n",
      "that whatever happened to send you back in time would still happen.\n",
      "\n",
      "\"Say you traveled in time in an attempt to stop COVID-19's patient zero from being exposed to the virus,\" University \n",
      "of Queensland scientist Fabio Costa told the university's news service.\n"
     ]
    }
   ],
   "source": [
    "print(\"text imput: {}\".format(text))"
   ]
  },
  {
   "cell_type": "markdown",
   "metadata": {},
   "source": [
    "# 1) Run one of the part-of-speech (POS) taggers available in Python. "
   ]
  },
  {
   "cell_type": "code",
   "execution_count": 84,
   "metadata": {},
   "outputs": [
    {
     "name": "stdout",
     "output_type": "stream",
     "text": [
      "text output after POS tagging: [('``', '``'), ('The', 'DT'), ('past', 'NN'), ('is', 'VBZ'), ('obdurate', 'JJ'), (\"''\", \"''\"), ('Stephen', 'NNP'), ('King', 'NNP'), ('wrote', 'VBD'), ('in', 'IN'), ('his', 'PRP$'), ('book', 'NN'), ('about', 'IN'), ('a', 'DT'), ('man', 'NN'), ('who', 'WP'), ('goes', 'VBZ'), ('back', 'RB'), ('in', 'IN'), ('time', 'NN'), ('to', 'TO'), ('prevent', 'VB'), ('the', 'DT'), ('Kennedy', 'NNP'), ('assassination', 'NN'), ('``', '``'), ('It', 'PRP'), ('doesnt', 'VBZ'), ('want', 'VB'), ('to', 'TO'), ('be', 'VB'), ('changed', 'VBN'), (\"''\", \"''\"), ('Turns', 'VBZ'), ('out', 'RP'), ('King', 'VBG'), ('might', 'MD'), ('have', 'VB'), ('been', 'VBN'), ('on', 'IN'), ('to', 'TO'), ('something', 'NN'), ('Countless', 'NNP'), ('science', 'NN'), ('fiction', 'NN'), ('tales', 'NNS'), ('have', 'VBP'), ('explored', 'VBN'), ('the', 'DT'), ('paradox', 'NN'), ('of', 'IN'), ('what', 'WP'), ('would', 'MD'), ('happen', 'VB'), ('if', 'IN'), ('you', 'PRP'), ('went', 'VBD'), ('back', 'RB'), ('in', 'IN'), ('time', 'NN'), ('and', 'CC'), ('did', 'VBD'), ('something', 'NN'), ('in', 'IN'), ('the', 'DT'), ('past', 'NN'), ('that', 'WDT'), ('endangered', 'VBD'), ('the', 'DT'), ('future', 'NN'), ('Perhaps', 'RB'), ('one', 'CD'), ('of', 'IN'), ('the', 'DT'), ('most', 'RBS'), ('famous', 'JJ'), ('pop', 'NN'), ('culture', 'NN'), ('examples', 'VBZ'), ('is', 'VBZ'), ('in', 'IN'), ('Back', 'NNP'), ('to', 'TO'), ('the', 'DT'), ('Future', 'NN'), ('when', 'WRB'), ('Marty', 'NNP'), ('McFly', 'NNP'), ('goes', 'VBZ'), ('back', 'RB'), ('in', 'IN'), ('time', 'NN'), ('and', 'CC'), ('accidentally', 'RB'), ('stops', 'VB'), ('his', 'PRP$'), ('parents', 'NNS'), ('from', 'IN'), ('meeting', 'VBG'), ('putting', 'VBG'), ('his', 'PRP$'), ('own', 'JJ'), ('existence', 'NN'), ('in', 'IN'), ('jeopardy', 'NN'), ('But', 'CC'), ('maybe', 'RB'), ('McFly', 'NNP'), ('wasnt', 'NN'), ('in', 'IN'), ('much', 'JJ'), ('danger', 'NN'), ('after', 'IN'), ('all', 'DT'), ('According', 'VBG'), ('a', 'DT'), ('new', 'JJ'), ('paper', 'NN'), ('from', 'IN'), ('researchers', 'NNS'), ('at', 'IN'), ('the', 'DT'), ('University', 'NNP'), ('of', 'IN'), ('Queensland', 'NNP'), ('even', 'RB'), ('if', 'IN'), ('time', 'NN'), ('travel', 'NN'), ('were', 'VBD'), ('possible', 'JJ'), ('the', 'DT'), ('paradox', 'NN'), ('couldnt', 'NN'), ('actually', 'RB'), ('exist', 'JJ'), ('Researchers', 'NNP'), ('ran', 'VBD'), ('the', 'DT'), ('numbers', 'NNS'), ('and', 'CC'), ('determined', 'VBD'), ('that', 'IN'), ('even', 'RB'), ('if', 'IN'), ('you', 'PRP'), ('made', 'VBD'), ('a', 'DT'), ('change', 'NN'), ('in', 'IN'), ('the', 'DT'), ('past', 'JJ'), ('the', 'DT'), ('timeline', 'NN'), ('would', 'MD'), ('essentially', 'RB'), ('self-correct', 'VB'), ('ensuring', 'VBG'), ('that', 'IN'), ('whatever', 'WDT'), ('happened', 'VBD'), ('to', 'TO'), ('send', 'VB'), ('you', 'PRP'), ('back', 'RB'), ('in', 'IN'), ('time', 'NN'), ('would', 'MD'), ('still', 'RB'), ('happen', 'VB'), (\"''\", \"''\"), ('Say', 'NNP'), ('you', 'PRP'), ('traveled', 'VBD'), ('in', 'IN'), ('time', 'NN'), ('in', 'IN'), ('an', 'DT'), ('attempt', 'NN'), ('to', 'TO'), ('stop', 'VB'), ('COVID-19s', 'NNP'), ('patient', 'NN'), ('zero', 'NN'), ('from', 'IN'), ('being', 'VBG'), ('exposed', 'VBN'), ('to', 'TO'), ('the', 'DT'), ('virus', 'NN'), (\"''\", \"''\"), ('University', 'NNP'), ('of', 'IN'), ('Queensland', 'NNP'), ('scientist', 'NN'), ('Fabio', 'NNP'), ('Costa', 'NNP'), ('told', 'VBD'), ('the', 'DT'), ('universitys', 'JJ'), ('news', 'NN'), ('service', 'NN')]\n"
     ]
    }
   ],
   "source": [
    "#POS Tagger\n",
    "#Via NLTK documentation: https://www.nltk.org/book/ch05.html\n",
    "\n",
    "\n",
    "#Remove punctuation\n",
    "punc= \".,`''\\\\\"\n",
    "import string\n",
    "\n",
    "#Put everything in lowercase\n",
    "text2 = text.lower()\n",
    "\n",
    "#Remove punctuation for stemmer\n",
    "for i in text:\n",
    "    for j in punc:\n",
    "        if i in punc:\n",
    "            text = text.replace(i, \"\")\n",
    "#Tokenize text\n",
    "tokenized_text = word_tokenize(text)\n",
    "\n",
    "#Use POS tagger to identify parts of speech\n",
    "print(\"text output after POS tagging: {}\".format(nltk.pos_tag(tokenized_text)))"
   ]
  },
  {
   "cell_type": "markdown",
   "metadata": {},
   "source": [
    "Removing the punctuation seemed to throw off a lot of easy words.  Let's try not removing the punctuaion. "
   ]
  },
  {
   "cell_type": "code",
   "execution_count": 85,
   "metadata": {},
   "outputs": [
    {
     "name": "stdout",
     "output_type": "stream",
     "text": [
      "text output after POS tagging: [('``', '``'), ('The', 'DT'), ('past', 'NN'), ('is', 'VBZ'), ('obdurate', 'JJ'), (\"''\", \"''\"), ('Stephen', 'NNP'), ('King', 'NNP'), ('wrote', 'VBD'), ('in', 'IN'), ('his', 'PRP$'), ('book', 'NN'), ('about', 'IN'), ('a', 'DT'), ('man', 'NN'), ('who', 'WP'), ('goes', 'VBZ'), ('back', 'RB'), ('in', 'IN'), ('time', 'NN'), ('to', 'TO'), ('prevent', 'VB'), ('the', 'DT'), ('Kennedy', 'NNP'), ('assassination', 'NN'), ('``', '``'), ('It', 'PRP'), ('doesnt', 'VBZ'), ('want', 'VB'), ('to', 'TO'), ('be', 'VB'), ('changed', 'VBN'), (\"''\", \"''\"), ('Turns', 'VBZ'), ('out', 'RP'), ('King', 'VBG'), ('might', 'MD'), ('have', 'VB'), ('been', 'VBN'), ('on', 'IN'), ('to', 'TO'), ('something', 'NN'), ('Countless', 'NNP'), ('science', 'NN'), ('fiction', 'NN'), ('tales', 'NNS'), ('have', 'VBP'), ('explored', 'VBN'), ('the', 'DT'), ('paradox', 'NN'), ('of', 'IN'), ('what', 'WP'), ('would', 'MD'), ('happen', 'VB'), ('if', 'IN'), ('you', 'PRP'), ('went', 'VBD'), ('back', 'RB'), ('in', 'IN'), ('time', 'NN'), ('and', 'CC'), ('did', 'VBD'), ('something', 'NN'), ('in', 'IN'), ('the', 'DT'), ('past', 'NN'), ('that', 'WDT'), ('endangered', 'VBD'), ('the', 'DT'), ('future', 'NN'), ('Perhaps', 'RB'), ('one', 'CD'), ('of', 'IN'), ('the', 'DT'), ('most', 'RBS'), ('famous', 'JJ'), ('pop', 'NN'), ('culture', 'NN'), ('examples', 'VBZ'), ('is', 'VBZ'), ('in', 'IN'), ('Back', 'NNP'), ('to', 'TO'), ('the', 'DT'), ('Future', 'NN'), ('when', 'WRB'), ('Marty', 'NNP'), ('McFly', 'NNP'), ('goes', 'VBZ'), ('back', 'RB'), ('in', 'IN'), ('time', 'NN'), ('and', 'CC'), ('accidentally', 'RB'), ('stops', 'VB'), ('his', 'PRP$'), ('parents', 'NNS'), ('from', 'IN'), ('meeting', 'VBG'), ('putting', 'VBG'), ('his', 'PRP$'), ('own', 'JJ'), ('existence', 'NN'), ('in', 'IN'), ('jeopardy', 'NN'), ('But', 'CC'), ('maybe', 'RB'), ('McFly', 'NNP'), ('wasnt', 'NN'), ('in', 'IN'), ('much', 'JJ'), ('danger', 'NN'), ('after', 'IN'), ('all', 'DT'), ('According', 'VBG'), ('a', 'DT'), ('new', 'JJ'), ('paper', 'NN'), ('from', 'IN'), ('researchers', 'NNS'), ('at', 'IN'), ('the', 'DT'), ('University', 'NNP'), ('of', 'IN'), ('Queensland', 'NNP'), ('even', 'RB'), ('if', 'IN'), ('time', 'NN'), ('travel', 'NN'), ('were', 'VBD'), ('possible', 'JJ'), ('the', 'DT'), ('paradox', 'NN'), ('couldnt', 'NN'), ('actually', 'RB'), ('exist', 'JJ'), ('Researchers', 'NNP'), ('ran', 'VBD'), ('the', 'DT'), ('numbers', 'NNS'), ('and', 'CC'), ('determined', 'VBD'), ('that', 'IN'), ('even', 'RB'), ('if', 'IN'), ('you', 'PRP'), ('made', 'VBD'), ('a', 'DT'), ('change', 'NN'), ('in', 'IN'), ('the', 'DT'), ('past', 'JJ'), ('the', 'DT'), ('timeline', 'NN'), ('would', 'MD'), ('essentially', 'RB'), ('self-correct', 'VB'), ('ensuring', 'VBG'), ('that', 'IN'), ('whatever', 'WDT'), ('happened', 'VBD'), ('to', 'TO'), ('send', 'VB'), ('you', 'PRP'), ('back', 'RB'), ('in', 'IN'), ('time', 'NN'), ('would', 'MD'), ('still', 'RB'), ('happen', 'VB'), (\"''\", \"''\"), ('Say', 'NNP'), ('you', 'PRP'), ('traveled', 'VBD'), ('in', 'IN'), ('time', 'NN'), ('in', 'IN'), ('an', 'DT'), ('attempt', 'NN'), ('to', 'TO'), ('stop', 'VB'), ('COVID-19s', 'NNP'), ('patient', 'NN'), ('zero', 'NN'), ('from', 'IN'), ('being', 'VBG'), ('exposed', 'VBN'), ('to', 'TO'), ('the', 'DT'), ('virus', 'NN'), (\"''\", \"''\"), ('University', 'NNP'), ('of', 'IN'), ('Queensland', 'NNP'), ('scientist', 'NN'), ('Fabio', 'NNP'), ('Costa', 'NNP'), ('told', 'VBD'), ('the', 'DT'), ('universitys', 'JJ'), ('news', 'NN'), ('service', 'NN')]\n"
     ]
    }
   ],
   "source": [
    "#POS Tagger\n",
    "#Via NLTK documentation: https://www.nltk.org/book/ch05.html\n",
    "\n",
    "\n",
    "#Tokenize text\n",
    "tokenized_text = word_tokenize(text)\n",
    "\n",
    "#Use POS tagger to identify parts of speech\n",
    "print(\"text output after POS tagging: {}\".format(nltk.pos_tag(tokenized_text)))"
   ]
  },
  {
   "cell_type": "markdown",
   "metadata": {},
   "source": [
    "# 1. a) Find the longest sentence you can, longer than 10 words, that the POS tagger tags correctly. Show the input and output."
   ]
  },
  {
   "cell_type": "code",
   "execution_count": 86,
   "metadata": {},
   "outputs": [
    {
     "name": "stdout",
     "output_type": "stream",
     "text": [
      "Correct sentence input: \"The past is obdurate,\" Stephen King wrote in his book about a man who goes back in time to prevent the Kennedy assassination.\n",
      "\n",
      "POS Output for Correct sentence: ('``', '``'), ('The', 'DT'), ('past', 'NN'), ('is', 'VBZ'), ('obdurate', 'JJ'), (',', ','), (, ), ('Stephen', 'NNP'), ('King', 'NNP'), ('wrote', 'VBD'), ('in', 'IN'), ('his', 'PRP$'), ('book', 'NN'), ('about', 'IN'), ('a', 'DT'), ('man', 'NN'), ('who', 'WP'), ('goes', 'VBZ'), ('back', 'RB'), ('in', 'IN'), ('time', 'NN'), ('to', 'TO'), ('prevent', 'VB'), ('the', 'DT'), ('Kennedy', 'NNP'), ('assassination', 'NN')\n",
      "\n",
      "\n"
     ]
    }
   ],
   "source": [
    "print(\"Correct sentence input: \\\"The past is obdurate,\\\" Stephen King wrote in his book about a man who goes back in time to prevent the Kennedy assassination.\\n\")\n",
    "print(\"POS Output for Correct sentence: ('``', '``'), ('The', 'DT'), ('past', 'NN'), ('is', 'VBZ'), ('obdurate', 'JJ'), (',', ','), (\"''\", \"''\"), ('Stephen', 'NNP'), ('King', 'NNP'), ('wrote', 'VBD'), ('in', 'IN'), ('his', 'PRP$'), ('book', 'NN'), ('about', 'IN'), ('a', 'DT'), ('man', 'NN'), ('who', 'WP'), ('goes', 'VBZ'), ('back', 'RB'), ('in', 'IN'), ('time', 'NN'), ('to', 'TO'), ('prevent', 'VB'), ('the', 'DT'), ('Kennedy', 'NNP'), ('assassination', 'NN')\\n\\n\")\n",
    "\n"
   ]
  },
  {
   "cell_type": "markdown",
   "metadata": {},
   "source": [
    "# 1. b) Find the shortest sentence you can, shorter than 10 words, that the POS tagger fails to tag 100 percent correctly. Show the input and output. Explain your conjecture as to why the tagger might have been less than perfect with this sentence."
   ]
  },
  {
   "cell_type": "code",
   "execution_count": 87,
   "metadata": {},
   "outputs": [
    {
     "name": "stdout",
     "output_type": "stream",
     "text": [
      "Incorrect Sentence input: Countless science fiction tales have explored the paradox of what would happen if you went back in time and did something in the past that endangered the future..\n",
      "\n",
      "POS Output for incorrect sentence: ('Countless', 'NNP'), ('science', 'NN'), ('fiction', 'NN'), ('tales', 'NNS'), ('have', 'VBP'), ('explored', 'VBN'), ('the', 'DT'), ('paradox', 'NN'), ('of', 'IN'), ('what', 'WP'), ('would', 'MD'), ('happen', 'VB'), ('if', 'IN'), ('you', 'PRP'), ('went', 'VBD'), ('back', 'RB'), ('in', 'IN'), ('time', 'NN'), ('and', 'CC'), ('did', 'VBD'), ('something', 'NN'), ('in', 'IN'), ('the', 'DT'), ('past', 'NN'), ('that', 'WDT'), ('endangered', 'VBD'), ('the', 'DT'), ('future', 'NN')\n"
     ]
    }
   ],
   "source": [
    "print(\"Incorrect Sentence input: Countless science fiction tales have explored the paradox of what would happen if you went back in time and did something in the past that endangered the future..\\n\")\n",
    "print(\"POS Output for incorrect sentence: ('Countless', 'NNP'), ('science', 'NN'), ('fiction', 'NN'), ('tales', 'NNS'), ('have', 'VBP'), ('explored', 'VBN'), ('the', 'DT'), ('paradox', 'NN'), ('of', 'IN'), ('what', 'WP'), ('would', 'MD'), ('happen', 'VB'), ('if', 'IN'), ('you', 'PRP'), ('went', 'VBD'), ('back', 'RB'), ('in', 'IN'), ('time', 'NN'), ('and', 'CC'), ('did', 'VBD'), ('something', 'NN'), ('in', 'IN'), ('the', 'DT'), ('past', 'NN'), ('that', 'WDT'), ('endangered', 'VBD'), ('the', 'DT'), ('future', 'NN')\")\n"
   ]
  },
  {
   "cell_type": "markdown",
   "metadata": {},
   "source": [
    "#### Why wasn't this sentence 100% accurate?"
   ]
  },
  {
   "cell_type": "markdown",
   "metadata": {},
   "source": [
    "In this instance, the POS tagger misclassified 'Countless' as a propper noun instead of an adjective. I think it may have made this misclassification because of its capitalization and because it was the first word of a sentence.  Usually, adjectives aren't the first word in a sentence.  "
   ]
  },
  {
   "cell_type": "markdown",
   "metadata": {},
   "source": [
    "# 2.\tRun a different POS tagger in Python. Process the same two sentences from question 1."
   ]
  },
  {
   "cell_type": "code",
   "execution_count": 88,
   "metadata": {},
   "outputs": [],
   "source": [
    "from textblob import TextBlob\n",
    "correct = \"\"\"\"The past is obdurate,\" Stephen King wrote in his book about a man who goes \n",
    "back in time to prevent the Kennedy assassination.\"\"\"\n",
    "\n",
    "incorrect = \"\"\"Countless science fiction tales have explored \n",
    "the paradox of what would happen if you went back in time and did something in the past that endangered \n",
    "the future.\"\"\"\n",
    "\n",
    "c_blob_tagged = TextBlob(correct)\n",
    "i_blob_tagged = TextBlob(incorrect)\n"
   ]
  },
  {
   "cell_type": "code",
   "execution_count": 89,
   "metadata": {},
   "outputs": [
    {
     "name": "stdout",
     "output_type": "stream",
     "text": [
      "Correct sentence with new tagger: \n",
      " [('The', 'DT'), ('past', 'NN'), ('is', 'VBZ'), ('obdurate', 'JJ'), ('Stephen', 'NNP'), ('King', 'NNP'), ('wrote', 'VBD'), ('in', 'IN'), ('his', 'PRP$'), ('book', 'NN'), ('about', 'IN'), ('a', 'DT'), ('man', 'NN'), ('who', 'WP'), ('goes', 'VBZ'), ('back', 'RB'), ('in', 'IN'), ('time', 'NN'), ('to', 'TO'), ('prevent', 'VB'), ('the', 'DT'), ('Kennedy', 'NNP'), ('assassination', 'NN')] \n",
      "\n",
      "\n",
      "Incorrect sentence with new tagger: \n",
      " [('Countless', 'NNP'), ('science', 'NN'), ('fiction', 'NN'), ('tales', 'NNS'), ('have', 'VBP'), ('explored', 'VBN'), ('the', 'DT'), ('paradox', 'NN'), ('of', 'IN'), ('what', 'WP'), ('would', 'MD'), ('happen', 'VB'), ('if', 'IN'), ('you', 'PRP'), ('went', 'VBD'), ('back', 'RB'), ('in', 'IN'), ('time', 'NN'), ('and', 'CC'), ('did', 'VBD'), ('something', 'NN'), ('in', 'IN'), ('the', 'DT'), ('past', 'NN'), ('that', 'WDT'), ('endangered', 'VBD'), ('the', 'DT'), ('future', 'NN')]\n"
     ]
    }
   ],
   "source": [
    "print(\"Correct sentence with new tagger: \\n\", c_blob_tagged.tags, \"\\n\\n\")\n",
    "\n",
    "print(\"Incorrect sentence with new tagger: \\n\", i_blob_tagged.tags)"
   ]
  },
  {
   "cell_type": "markdown",
   "metadata": {},
   "source": [
    "# 2. a) Does it produce the same or different output?"
   ]
  },
  {
   "cell_type": "code",
   "execution_count": 90,
   "metadata": {},
   "outputs": [
    {
     "name": "stdout",
     "output_type": "stream",
     "text": [
      "POS Output for Correct sentence (first tagger): \n",
      " [('The', 'DT'), ('past', 'NN'), ('is', 'VBZ'), ('obdurate', 'JJ'), ('Stephen', 'NNP'), ('King', 'NNP'), ('wrote', 'VBD'), ('in', 'IN'), ('his', 'PRP$'), ('book', 'NN'), ('about', 'IN'), ('a', 'DT'), ('man', 'NN'), ('who', 'WP'), ('goes', 'VBZ'), ('back', 'RB'), ('in', 'IN'), ('time', 'NN'), ('to', 'TO'), ('prevent', 'VB'), ('the', 'DT'), ('Kennedy', 'NNP'), ('assassination', 'NN')] \n",
      "\n",
      "Correct sentence with new tagger: \n",
      " [('The', 'DT'), ('past', 'NN'), ('is', 'VBZ'), ('obdurate', 'JJ'), ('Stephen', 'NNP'), ('King', 'NNP'), ('wrote', 'VBD'), ('in', 'IN'), ('his', 'PRP$'), ('book', 'NN'), ('about', 'IN'), ('a', 'DT'), ('man', 'NN'), ('who', 'WP'), ('goes', 'VBZ'), ('back', 'RB'), ('in', 'IN'), ('time', 'NN'), ('to', 'TO'), ('prevent', 'VB'), ('the', 'DT'), ('Kennedy', 'NNP'), ('assassination', 'NN')] \n",
      "\n",
      "\n",
      "POS Output for incorrect sentence (first tagger):\n",
      " [('Countless', 'NNP'), ('science', 'NN'), ('fiction', 'NN'), ('tales', 'NNS'), ('have', 'VBP'), ('explored', 'VBN'), ('the', 'DT'), ('paradox', 'NN'), ('of', 'IN'), ('what', 'WP'), ('would', 'MD'), ('happen', 'VB'), ('if', 'IN'), ('you', 'PRP'), ('went', 'VBD'), ('back', 'RB'), ('in', 'IN'), ('time', 'NN'), ('and', 'CC'), ('did', 'VBD'), ('something', 'NN'), ('in', 'IN'), ('the', 'DT'), ('past', 'NN'), ('that', 'WDT'), ('endangered', 'VBD'), ('the', 'DT'), ('future', 'NN')] \n",
      "\n",
      "Incorrect sentence with new tagger: \n",
      " [('Countless', 'NNP'), ('science', 'NN'), ('fiction', 'NN'), ('tales', 'NNS'), ('have', 'VBP'), ('explored', 'VBN'), ('the', 'DT'), ('paradox', 'NN'), ('of', 'IN'), ('what', 'WP'), ('would', 'MD'), ('happen', 'VB'), ('if', 'IN'), ('you', 'PRP'), ('went', 'VBD'), ('back', 'RB'), ('in', 'IN'), ('time', 'NN'), ('and', 'CC'), ('did', 'VBD'), ('something', 'NN'), ('in', 'IN'), ('the', 'DT'), ('past', 'NN'), ('that', 'WDT'), ('endangered', 'VBD'), ('the', 'DT'), ('future', 'NN')]\n"
     ]
    }
   ],
   "source": [
    "correct_first = [('The', 'DT'), ('past', 'NN'), ('is', 'VBZ'), ('obdurate', 'JJ'), ('Stephen', 'NNP'), ('King', 'NNP'), ('wrote', 'VBD'), ('in', 'IN'), ('his', 'PRP$'), ('book', 'NN'), ('about', 'IN'), ('a', 'DT'), ('man', 'NN'), ('who', 'WP'), ('goes', 'VBZ'), ('back', 'RB'), ('in', 'IN'), ('time', 'NN'), ('to', 'TO'), ('prevent', 'VB'), ('the', 'DT'), ('Kennedy', 'NNP'), ('assassination', 'NN')]\n",
    "\n",
    "print(\"POS Output for Correct sentence (first tagger): \\n\",correct_first,\"\\n\")\n",
    "print(\"Correct sentence with new tagger: \\n\", c_blob_tagged.tags, \"\\n\\n\")\n",
    "\n",
    "incorrect_first = [('Countless', 'NNP'), ('science', 'NN'), ('fiction', 'NN'), ('tales', 'NNS'), ('have', 'VBP'), ('explored', 'VBN'), ('the', 'DT'), ('paradox', 'NN'), ('of', 'IN'), ('what', 'WP'), ('would', 'MD'), ('happen', 'VB'), ('if', 'IN'), ('you', 'PRP'), ('went', 'VBD'), ('back', 'RB'), ('in', 'IN'), ('time', 'NN'), ('and', 'CC'), ('did', 'VBD'), ('something', 'NN'), ('in', 'IN'), ('the', 'DT'), ('past', 'NN'), ('that', 'WDT'), ('endangered', 'VBD'), ('the', 'DT'), ('future', 'NN')]\n",
    "print(\"POS Output for incorrect sentence (first tagger):\\n\", incorrect_first,\"\\n\")\n",
    "print(\"Incorrect sentence with new tagger: \\n\", i_blob_tagged.tags)"
   ]
  },
  {
   "cell_type": "markdown",
   "metadata": {},
   "source": [
    "#### Comparison of correct sentence tagging"
   ]
  },
  {
   "cell_type": "code",
   "execution_count": 91,
   "metadata": {},
   "outputs": [
    {
     "name": "stdout",
     "output_type": "stream",
     "text": [
      "Items that do not match between nltk and textblob:  []\n"
     ]
    }
   ],
   "source": [
    "#Zip lists to compare\n",
    "#https://codereview.stackexchange.com/questions/44168/streamlined-for-loop-for-comparing-two-lists\n",
    "zipped_list_correct = zip(correct_first,c_blob_tagged.tags)\n",
    "\n",
    "#determine if there are any entries that don't match:\n",
    "non_matching = [x for x, y in enumerate(zipped_list_correct) if y[0]!=y[1]]\n",
    "\n",
    "#If there is a perfect match, we should see an empty list as a result\n",
    "print(\"Items that do not match between nltk and textblob: \",non_matching)"
   ]
  },
  {
   "cell_type": "markdown",
   "metadata": {},
   "source": [
    "#### Comparison of correct sentence tagging"
   ]
  },
  {
   "cell_type": "code",
   "execution_count": 92,
   "metadata": {},
   "outputs": [
    {
     "name": "stdout",
     "output_type": "stream",
     "text": [
      "Items that do not match between nltk and textblob:  []\n"
     ]
    }
   ],
   "source": [
    "#Zip lists to compare\n",
    "zipped_list_incorrect = zip(incorrect_first,i_blob_tagged.tags)\n",
    "\n",
    "#determine if there are any entries that don't match:\n",
    "non_matching = [x for x, y in enumerate(zipped_list_incorrect) if y[0]!=y[1]]\n",
    "\n",
    "#If there is a perfect match, we should see an empty list as a result\n",
    "print(\"Items that do not match between nltk and textblob: \",non_matching)"
   ]
  },
  {
   "cell_type": "markdown",
   "metadata": {},
   "source": [
    "##### It appears that both taggers performed exactly the same on the two sentences. "
   ]
  },
  {
   "cell_type": "markdown",
   "metadata": {},
   "source": [
    "# 2. b)\tExplain any differences as best you can."
   ]
  },
  {
   "cell_type": "markdown",
   "metadata": {},
   "source": [
    "##### Both the Stanford POS tagger from NLTK and the TextBlob POS taggers tagged every word the exact same.  There are no differences to compare."
   ]
  },
  {
   "cell_type": "markdown",
   "metadata": {},
   "source": [
    "# 3.\tIn a news article from this week’s news, find a random sentence of at least 10 words."
   ]
  },
  {
   "cell_type": "code",
   "execution_count": 93,
   "metadata": {},
   "outputs": [],
   "source": [
    "#Note, I googled random news article on this one as well and chose the first entry on the second page.\n",
    "#Random article: https://www.independent.co.uk/news/weird-news/how-rich-kids-instagram-spent-holiday-season-9953359.html\n",
    "\n",
    "text_3 = \"\"\"Images showcasing their mind-bogglingly \n",
    "lavish lifestyles over the holidays quickly appeared on the Rich Kids of Instagram blog. \"\"\""
   ]
  },
  {
   "cell_type": "markdown",
   "metadata": {},
   "source": [
    "# 3. a) Looking at the Penn tag set, manually POS tag the sentence yourself."
   ]
  },
  {
   "cell_type": "markdown",
   "metadata": {},
   "source": [
    "Manual POS tagging using the Penn Treebank:\n",
    "\n",
    "https://www.ling.upenn.edu/courses/Fall_2003/ling001/penn_treebank_pos.html"
   ]
  },
  {
   "cell_type": "code",
   "execution_count": 94,
   "metadata": {},
   "outputs": [
    {
     "name": "stdout",
     "output_type": "stream",
     "text": [
      "[('Images', 'NNS'), ('showcasing', 'VBG'), ('their', 'PRP$'), ('mind-bogglingly', 'JJ'), ('lavish', 'JJ'), ('lifestyles', 'NNS'), ('over', 'IN'), ('the', 'DT'), ('holidays', 'NNS'), ('quickly', 'RB'), ('appeared', 'VBD'), ('on', 'IN'), ('the', 'DT'), ('Rich', 'NNP'), ('Kids', 'NNP'), ('of', 'IN'), ('Instagram', 'NNP'), ('blog', 'NN')]\n"
     ]
    }
   ],
   "source": [
    "#Manual type-out of my tag into list to more easily compare\n",
    "my_pos = [('Images', 'NNS'), ('showcasing', 'VBG'), ('their', 'PRP$'), ('mind-bogglingly', 'JJ'), ('lavish', 'JJ'), \n",
    "          ('lifestyles', 'NNS'), ('over', 'IN'), ('the', 'DT'), ('holidays', 'NNS'), ('quickly', 'RB'), ('appeared', 'VBD'), \n",
    "          ('on', 'IN'), ('the', 'DT'), ('Rich', 'NNP'), ('Kids', 'NNP'), ('of', 'IN'), ('Instagram', 'NNP'), ('blog', 'NN')]\n",
    "\n",
    "print(my_pos)"
   ]
  },
  {
   "cell_type": "markdown",
   "metadata": {},
   "source": [
    "# 3. b) Now run the same sentences through both taggers that you implemented for questions 1 and 2. Did either of the taggers produce the same results as you had created manually?"
   ]
  },
  {
   "cell_type": "code",
   "execution_count": 95,
   "metadata": {},
   "outputs": [
    {
     "name": "stdout",
     "output_type": "stream",
     "text": [
      "NLTK: \n",
      " [('Images', 'NNS'), ('showcasing', 'VBG'), ('their', 'PRP$'), ('mind-bogglingly', 'JJ'), ('lavish', 'JJ'), ('lifestyles', 'NNS'), ('over', 'IN'), ('the', 'DT'), ('holidays', 'NNS'), ('quickly', 'RB'), ('appeared', 'VBD'), ('on', 'IN'), ('the', 'DT'), ('Rich', 'NNP'), ('Kids', 'NNP'), ('of', 'IN'), ('Instagram', 'NNP'), ('blog', 'NN'), ('.', '.')] \n",
      "\n",
      "\n",
      "TextBlob: \n",
      " [('Images', 'NNS'), ('showcasing', 'VBG'), ('their', 'PRP$'), ('mind-bogglingly', 'JJ'), ('lavish', 'JJ'), ('lifestyles', 'NNS'), ('over', 'IN'), ('the', 'DT'), ('holidays', 'NNS'), ('quickly', 'RB'), ('appeared', 'VBD'), ('on', 'IN'), ('the', 'DT'), ('Rich', 'NNP'), ('Kids', 'NNP'), ('of', 'IN'), ('Instagram', 'NNP'), ('blog', 'NN')]\n"
     ]
    }
   ],
   "source": [
    "#Stanford NLTK tagger\n",
    "tokenized_text_3 = word_tokenize(text_3)\n",
    "\n",
    "#Use POS tagger to identify parts of speech\n",
    "t3_nltk_tagged = nltk.pos_tag(tokenized_text_3)\n",
    "print(\"NLTK: \\n\", t3_nltk_tagged, \"\\n\\n\")\n",
    "\n",
    "#TextBlob tagger\n",
    "t3_blob_tagged = TextBlob(text_3)\n",
    "print(\"TextBlob: \\n\", t3_blob_tagged.tags)"
   ]
  },
  {
   "cell_type": "markdown",
   "metadata": {},
   "source": [
    "##### Differences between my POS tagging and NLTK:"
   ]
  },
  {
   "cell_type": "code",
   "execution_count": 96,
   "metadata": {},
   "outputs": [
    {
     "name": "stdout",
     "output_type": "stream",
     "text": [
      "Differences between my POS tagging and NLTK:  []\n"
     ]
    }
   ],
   "source": [
    "# Comparison to NLTK:\n",
    "zipped_list_3 = zip(my_pos,t3_nltk_tagged)\n",
    "\n",
    "#determine if there are any entries that don't match:\n",
    "non_matching_3_nltk = [x for x, y in enumerate(zipped_list_3) if y[0]!=y[1]]\n",
    "\n",
    "print(\"Differences between my POS tagging and NLTK: \", non_matching_3_nltk)"
   ]
  },
  {
   "cell_type": "markdown",
   "metadata": {},
   "source": [
    "##### Differences between my POS tagging and TextBlob:"
   ]
  },
  {
   "cell_type": "code",
   "execution_count": 97,
   "metadata": {},
   "outputs": [
    {
     "name": "stdout",
     "output_type": "stream",
     "text": [
      "Differences between my POS tagging and NLTK:  []\n"
     ]
    }
   ],
   "source": [
    "# Comparison to NLTK:\n",
    "zipped_list_3b = zip(my_pos,t3_blob_tagged.tags)\n",
    "\n",
    "#determine if there are any entries that don't match:\n",
    "non_matching_3_textblob = [x for x, y in enumerate(zipped_list_3b) if y[0]!=y[1]]\n",
    "\n",
    "print(\"Differences between my POS tagging and NLTK: \", non_matching_3_textblob)"
   ]
  },
  {
   "cell_type": "markdown",
   "metadata": {},
   "source": [
    "# 3. c) c.\tExplain any differences between the two taggers and your manual tagging as much as you can."
   ]
  },
  {
   "cell_type": "markdown",
   "metadata": {},
   "source": [
    "It looks like the two taggers matched my tagging exactly--there were no differences.  This random sentence was not extremely complicated though.  "
   ]
  },
  {
   "cell_type": "code",
   "execution_count": null,
   "metadata": {},
   "outputs": [],
   "source": []
  }
 ],
 "metadata": {
  "kernelspec": {
   "display_name": "Python 3",
   "language": "python",
   "name": "python3"
  },
  "language_info": {
   "codemirror_mode": {
    "name": "ipython",
    "version": 3
   },
   "file_extension": ".py",
   "mimetype": "text/x-python",
   "name": "python",
   "nbconvert_exporter": "python",
   "pygments_lexer": "ipython3",
   "version": "3.7.4"
  }
 },
 "nbformat": 4,
 "nbformat_minor": 2
}

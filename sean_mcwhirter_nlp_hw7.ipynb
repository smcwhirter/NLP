{
 "cells": [
  {
   "cell_type": "markdown",
   "metadata": {},
   "source": [
    "# Sean McWhirter\n",
    "# NLP HW 7"
   ]
  },
  {
   "cell_type": "code",
   "execution_count": 194,
   "metadata": {},
   "outputs": [],
   "source": [
    "from nltk.metrics import *\n",
    "import pandas as pd\n",
    "import nltk\n",
    "import re\n",
    "from nltk.corpus import stopwords\n",
    "from nltk.tokenize import word_tokenize\n",
    "from string import punctuation\n",
    "import pprint\n",
    "from sklearn.feature_extraction.text import TfidfVectorizer\n",
    "from bs4 import BeautifulSoup\n",
    "import requests\n",
    "import string"
   ]
  },
  {
   "cell_type": "code",
   "execution_count": 2,
   "metadata": {},
   "outputs": [],
   "source": [
    "# Read in spreadsheet with links\n",
    "df = pd.read_excel(r'C:\\Users\\seans\\Desktop\\NLP\\HW5\\permalinks.xlsx', header=None)\n",
    "\n",
    "#convert to list to iterate through\n",
    "link_list = df[0].tolist()"
   ]
  },
  {
   "cell_type": "markdown",
   "metadata": {},
   "source": [
    "# 1.\n",
    "\n",
    ">In Python, select any one of the clustering methods covered in this course. Run it over the collection of reviews, and show at least two different ways of clustering the reviews, e.g., changing k in k-Means clustering or changing where you “cut” in Agnes or Diana.  "
   ]
  },
  {
   "cell_type": "code",
   "execution_count": 330,
   "metadata": {},
   "outputs": [],
   "source": [
    "#set up to remove stopwords\n",
    "new_stops = list(stopwords.words('english'))\n",
    "\n",
    "new_stops = new_stops + ['show', 'episode', 'it', 'get', ' it.', 'it\\'s', 'series', 'season', \n",
    "                         'can', 'no', 've', 'watch', 'watched', 'much', 'lot', 'thus', 'no', 'need', 'needed', 'should\\'ve',\n",
    "                        'it,', 'can.', 'can,']\n",
    "stop_words = new_stops"
   ]
  },
  {
   "cell_type": "code",
   "execution_count": 333,
   "metadata": {},
   "outputs": [],
   "source": [
    "output = []\n",
    "\n",
    "#Append reviews to a list for vectorizer\n",
    "\n",
    "for i in link_list:\n",
    "    lst = []\n",
    "    page = requests.get(i)\n",
    "    soup = BeautifulSoup(page.content, 'html.parser')\n",
    "    span = str(soup.find('div', attrs={'text show-more__control'}).text).strip().lower()\n",
    "    for i in span.split(' '):\n",
    "        if i not in stop_words:\n",
    "            lst.append(i)\n",
    "    span_nostop = ' '.join(lst)\n",
    "    \n",
    "    #span_nostop = ' '.join([i for i in span if i not in stop_words])\n",
    "    #tokenized = word_tokenize(span)\n",
    "    #tagged = nltk.pos_tag(tokenized)\n",
    "    #chunked = np.parse(tagged)\n",
    "    #for subtree in chunked.subtrees():\n",
    "       # if subtree.label() == 'NP':\n",
    "            #lst.append(subtree)\n",
    "    #span = [i for i in span if i not in string.punctuaion]\n",
    "    output.append(str(span_nostop))\n"
   ]
  },
  {
   "cell_type": "code",
   "execution_count": null,
   "metadata": {},
   "outputs": [],
   "source": []
  },
  {
   "cell_type": "code",
   "execution_count": 334,
   "metadata": {},
   "outputs": [
    {
     "data": {
      "text/plain": [
       "['started watching brilliant spin superhero dinner. 4 whole thing.from first glued exciting, interesting crazy ride.',\n",
       " 'superheroed never ending train films welcome relief. kids love choice language appropriate.',\n",
       " 'excellent dystopian reimagining superhero nerds. surprising, violent, always twisting. binge-watched 2 days! glad second season, though impatient! thumbs up.',\n",
       " \"first interesting take whole superhero genre. there's also more. great actors, great storyline nice picture. guess best superhero yet, followed titans umbrella academy.\",\n",
       " 'around world global obsession superhero comic characters even though real, billion dollar industry them. would even imagine franchise would endure came real life! franchise would become one quite easily. comes boys !easily might become greatest first superhero tv ever, competing marvels daredevil ofcourse. scrip freaking impressive, top violence gore along great dialogues brilliant acting easily brings top. would really surprised two kiwi lead protagonists, kurl urban anthony starr nominated best actors leading role, specially starr. absolutely brilliant lead antagonist homelander. says something superhero movie, say !was waiting patiently show, living hype easy. binge once, addictive. wow! even release, amazon prime ordered second even though production cost might astronomical would imagine. confident, good. enjoy !!',\n",
       " \"can't say recall seeing anthony star films (and i'm aussie) performance homelander really something else - someone give award. can't wait next season, projects star.\",\n",
       " 'bad superheroes done before, like this. entertaining.',\n",
       " 'finished watching 2 confidently say best \"superhero\" themed cinema since dark knight, better whole mcu. funnier relevant. fact, \"superhero\" aspect secondary excellent satire american/western sugar-coating \"right-wing\" virtue-signalling \"left-wing\", well beloved neo-feudal corporatocracy. thing find silly misguided portrayal corporatist media actual neutral party instead collection propagandist oligarchical mouthpieces memetic trend fire-fanning opportunists is.i also quite enjoyed butcher\\'s \"british\" accent many brits seem despise \"fakeness\", yet problem ceaseless mockery \"accents\" every language, joke \"russian\" accent 2.this non-western world see america/nato/oecd hear british.',\n",
       " \"care amazon netflix buy over. make soon, can't wait,, can't crapy super hero series, predict miles away. entertaining realistic oh god acting dialogs awesome.. butcher super.\",\n",
       " 'excellent performance karl urban made me, along casting simon peg huies dad (huie based simon peg comics) nice surprise, also characters supers played perfectly home lander well played',\n",
       " 'karl urban good this, far reason fun enjoyable.',\n",
       " \"'the boys' fantastically written satire also brainchild creative genius, simon pegg. karl urban perfect choice butcher, vocabulary negan (the walking dead) vigilante drive paul kersey (death wish). material work could continue several seasons. kudos seth rogen amazon bringing brilliant concept streaming media!\",\n",
       " \"definitely hit home run one. i've tried top original shows i'd always walk away could finish lack interest. i'm embarrassed admit fast finished series. keep netflix might real contender shadows.\",\n",
       " 'even better hoped for! well written. well acted. totally worth watching!',\n",
       " 'sad see another great taking nosedive quality hamfisted attempts topical \"relevant\". consider liberal regards, however, 2nd often unbearable way writers tried shoehorn many liberal talking points possible one season. never able really immerse story reminded current day politics every turn heavy-handed way. everything: white supremacy, bad white incels, alt-right memes power twitter, anti-immigration propaganda, islamophobia, \"america first\" rhetoric, literal nazis, homophobia, feminism steroids - girls kicking ass boys stand watch, toxic masculinity bad fathers contrasted loving caring mothers, potshots privatized health care, alexandra ocasio-cortez-like character etc. thing missing end \"i\\'m joe biden approve message\".',\n",
       " \"1 absolutely brilliant one best shows i've ever seen. 2 nowhere near. poor 5. gutted.\",\n",
       " \"pretty boring second wow can't even binge since put episodes...really disappointed.\",\n",
       " '1 \"great\" something happened 2. different writers? storyline change?\\ndon\\'t know far 4 stuck.\\ndon\\'t believe reviews give 10 say things like \"breath fresh air\". corny real.\\nthis great seems going every episode.',\n",
       " 'dont know happened series. first amazing, well paced character driven.now two slow, dragged out, boring agenda driven...went favorite new force watch. change things last 4 episodes im done nonsense.',\n",
       " 'one great, 2 like always filler episodes trying milk nothing interesting happened far 2 loosing momentum weekly runs',\n",
       " \"since breaking bad got (bad ending), people looking good like this. interesting, intelligent, really well written.primevideo's best choice fleabag.\",\n",
       " 'found fast forwarding 2 far. 4 mostly talking drama.',\n",
       " 'usually hate superhero shoes first came hooked. 3 come',\n",
       " 'new writers? disappointed far direction show.',\n",
       " 'weekly releases & forced cliffhanger endings every twitter \"conversations\". morphed supe soap opera. yuck!',\n",
       " 'i\\'m scotland loved british \"office\". adore american version! steve carell leads great cast i\\'m surprised lasted long. i\\'m working way 3 4 5 look forward to. amazing writers 20 minutes. like double episode. glad laughter track (which stopped watching quite comedy shows). noticed third camera annoying whizzes character character - far quickly. completely unnecessary. steve\\'s \"michael\" conveys character - he\\'s full vulnerable anxious friends. rainn wilson\\'s \"dwight\" brilliant. love company name - \"dunder mifflin\"!',\n",
       " 'honestly, thought \\'boring\\' even single episode. seriously, interesting could happen office environment? remember first scene saw show. internet wallpaper michael scott white board behind saying \"you miss 100% shots take\".then years that, somehow started watching \"the office\", really remember that. love raw nature. camera kind shaky yet still brings best scenes...something never seen tv sitcom. may seem less professional adds real life, personal touch tv characters them.obviously, michael scott one favourite character. jim, andy, dwight, pam, erin, kevin, oscar, angela, creed even camera crew include favourite list.what learned okay weird different ,that welcomed wanted ( remembering michael scott attempts ), can\\'t wait expect things happen you, okay hated feel hate others....it\\'s dependent time. people change, feelings change, situations change. got true heart everything fall place.i love every minute spent <3',\n",
       " 'single negative thing say office. far favorite show. eagerly await new every week.all unique characters depth well developed.as people like based u.k. version, it. taken completely different level. characters spin supposed stay exact same, otherwise spin would pointless.the characters constantly evolving, never constantly protagonist antagonist, point endearing. characters wonderfully bizarre yet real.if find funny, funny bone. writers, keep em coming.',\n",
       " \"really outstanding, fact think rate 10. watching original uk back 2001 bbc tv, never thought american remake would stand ground whatsoever. first aired uk did'nt really make mark, unfortunately never caught on. disappointed disappeared screens, quickly forgot it. thought 1 crashed burned. one day checking reviews evan almighty imdb noticed steve carel still making show. hold see joy 5 waiting me. never tv like done this, ended watching 10 episodes day, think 5 2 weeks. funny, acted brilliantly, top, totally crazy totally entertaining. ever bung couple episodes good old dunder miflin scranton cant go wrong. gervais said 2 office uk enough. did'nt want take further. know helps us version, sure surprised see 6 already describe best american sitcom time!!\",\n",
       " \"british version office became fan - almost everyone. decided see american version good original. doubt feeling emerged first episode, since still original - awesome - characters mind. funny, peculiar, inimitable. let impression ruin experience, though. gladly. american version obviously inspired british version, same. simple like this. american characters mere counterparts david, tim, gareth, dawn... hole new versions kind people easily find office. equally inspired versions workers. since i've lost several episodes aired first time, i'm third season, surely see episodes end. one time...\",\n",
       " \"started seeing year i'm 6th already. first understand could good series, actors charismatic acting good almost story could follow michael seemed like hateable person. second things started pick bit nothing special. third sixth got completely hooked story follow, interesting one, michael fact genius evident fifth sixth seasons. someone believes michael something goes objectives inside company (even times seems does), i'm sure person really understanding what's main philosophy behind michael's character. took 3 seasons understand michael scott that, liked much, that, loved favorite now. understand characters, besides entertaining delightful watch, going blow mind sometimes.\",\n",
       " 'changed life. way see things, way live. most. one best cinematic/artistic creation men. teaches love, compassion, finding beauty simple things life.\\nstory small paper supply company small town, yet took world storm.',\n",
       " 'even though ended 7 years ago never got around till binge entire 9 seasons days.so well written, comedically funny sad times. say good things must come end could gone another make magical 10 seasons.shame carrell left 7 last 2 seasons missed michael scott comedy, watching 188 episodes probably one favourite us comedy sitcoms 👍🏼',\n",
       " \"reading horrible reviews coming uk, felt strong desire comment. learned reviewers bashing seen (at most) episodes first - many seen all, simply bashing overwhelming sense pride original. i'd surprised review skimmed marked unhelpful them. obviously i'm speaking british, majority unfairly judge little basis truth. whole fanaticism juvenile petty. casts us uk versions love show. ricky gervais even wrote executive produced episodes us version. open minds, people! us fans know based british version. gotten credit deserves brilliant hilarious show. american version also brilliant hilarious. i've read comments ranging 'bad acting' 'direct copy', neither true. first may borrowed bits, feet. second third seasons proved entirely own, scenarios characters nothing uk version all. acting convincing real uk version. i've even read michael scott devoid david brent's humanity! actuality, michael scott shown far human david brent, manipulative (albeit, poorly) heartless. us version still cruel elements uk version, balances awkward, painful moments tender, human moments, makes enjoyable watchable. humor, moments subtlety, detail, absolutely outrageous moments, awkwardness, pain, cuteness, ridiculousness, vulgarity. uk version groundbreaking. instead blindly basing opinions bias arrogance, see us version - brilliant, brighter version that, first season, simply used framework original (the characters basic situations) started with. funniest, smartest american television recent history besides arrested development. since seinfeld made laugh hard smile much. three shows better viewing great there's many levels humor, apparent outrageousness minute details noticed repeated viewings often funnier surface material.\",\n",
       " 'great show, absolutely loved jokes. shame over.',\n",
       " \"many jobs taking place office buildings, television based ricky gervais created bbc series, takes aim aspects modern american workplace. steve carrell leads large cast talented actors succeed creating smart, silly comedy works.carrell michael scott, dim-witted boss paper company dunder mifflin's scranton, pennsylvania branch. rainn wilson scott's odd second command dwight shrute, man prides knowledge survival techniques bears. jim krasinski jim halpert, salesman crush pam(jenna schafer), receptionist. major characters ongoing, hilarious saga scranton work.several story lines take place course single episode, giving chances laughs. one episode, example, conflicts members party planning committee, michael's usual antics procrastination, secrets two characters's affair. make original ones single narrative.funny intelligent, office one brilliant spoof miss.\",\n",
       " \"saw entire serie i'm waiting see again. perfect, beginning end. fun serie, deep make think feel every kind sensations: joy, laugh, cry even desperate characters everything. best comedy pretty sure difficult introduce another serie: i'll keep always office heart.\",\n",
       " \"begin wonderful show?what single important thing one's life? family. me, office. office family.the fact characters normal people working 9-5 jobs makes relatable point seems know michael, jim, pam employees dunder mifflin real life.the absolutely hilarious intersperses clever, well written comedy incredibly poignant moving moments. jim pam story remains favourite part show. story well written seemed meant together, real testament chemistry cast other. hard consider anyone else greatest tv couple time.and wants jerk tears, without warning. never cried tv movie watching show. jim pam's wedding, michael's goodbye, list goes on. even mentioned finale. nothing short perfection. tied together perfectly characters reminiscing 9 years lives together going separate ways. left reminiscing time spent following lives employees dunder mifflin thinking i'd never see again. again, comes back relatability characters- really made feel like saying final goodbyes friends never going see again- something made cry floods tears. happened every one 4 times rewatched glorious show. perfect end perfect show.i told someone started watching office, 'be careful, it'll become life'. think every day. quote random lines jokes daily basis. boy right.i would love patriotic stick ricky gervais' attempt office mockumentary find hard smashes park every way possible. enough superlatives use enough time write great love much.the office made laugh. office made cry. office made feel part family. i'm sad, put office. i'm bored, put office. whenever never fails put smile face. forever grateful michael schur, greg daniels entire cast crew creating wonderful show. tv show. life. quite simply, favourite tv time.\",\n",
       " \"didn't. bright spots first elements original replicated.from went hill.the original might seemed crass actually great deal subtle character development comment modern british culture. us version used caricatures stereotypes instead.sorry good.the us make excellent comedy soap, seinfeld, curb enthusiasm even friends worth watching prior last two. make rubbish remakes british shows pale shadow former selves?i suppose least bad got cut 3 shows (or whatever) like many remakes good british shows e.g. coupling.\",\n",
       " \"okay i'm watching american version i'm quoting bbc version thats know sitcom bad, close names (jim-tim) stolen bits, around catastrophe, hadnt seen bbc version maybe chuckle, poorly done really hope people judge based shotty imitation brilliant series.i think problem fact perfect bettered reason try americanize it; think people like brand comedy; sure refreshing different, masses cant imagine like showanyone reading please go bbc version perfect seriesmy analogy us americans is...you cant recast seinfeld make uk version recast perfect office cast disappoint fans old series:-( bad.\",\n",
       " \"think british crew comic genius terms timing delivery.maybe i'm biased, since fan british show, i'm extremely disappointed recycled dumb-ed down. think american version abomination actually.if perhaps come new material american version,then give shot, they're trying what's already done, (and already done well!), think shame.the british comic genius wonder american version played someone familiar series. seems translate well, give hope would rejoin favorite king awkward pauses quest fail miserably painful social blunders, utterly cruel. happen slightest. perhaps expectations high? think ricky talent ability make work america. like this.\",\n",
       " \"nothing dreadful transatlantic mess good. predicted would fail. far, i've wrong. how, oh *how* could wrong ingredients disaster seem baked right in?apparently, somebody changed recipe long ago.this sums perfectly people want television nowadays: constant stupidity people egotistical slightest funny. really abominably shallow painful moronic, probably canceled, terrific shows lucky last year.steve carrell spits ricky gervais taking reins *and* fumbling pass (maybe mixed metaphors speak people enjoy this). plays head honcho office full idiots, slobs, jerks. longer anything it... ever first place. documentary style worked before, makes want die pitiful show.the british version wit! packed wallop! amazing, masterwork ingenuity! englishman watching this, i'd choice see americans nation bumbling idiots (on-screen) way over-the-top, lunatic things sake them. i'm still shuddering impact nightmare.\",\n",
       " \"always curious, first moment heard american version 'the office' assumption would change mood, setting, ideas, characters make 'american' remaining original concept. expect less word word remake original, almost exactly setting, shot list, character profile... etc. thing changed, references language.ricky gervais, david brent visa versa... work acted anyone else. period.i thought writing long critique program, leave instead. embarrassment american people, people made hang heads shame. love sex city, friends.. etc.. forgo cultural differences, still able find funny. try re-make either these.. would never same. don't, enjoy original.most american's seen original 'office', probably find 'new' version funny. but, well... not, lame excuse programming canned favour original... americans know w**ker maybe, would never find funny.bad bad bad bad bad bad..bad\",\n",
       " \"maybe worst sitcom ever seen. original british office cracking one minute cringing next. version awful. got hands promotional disk first three episodes. bad 1 half. reason rest.they took original script almost line line. forget rent original go buy dvd. encourage american networks watching kind crap they'll keep making same.i can't believe nbc executive gave ok. somebody fired! would better buying rights british putting nbc.\",\n",
       " \"watching pilot american version office like seeing car wreck slow motion, wanting see aftermath, yet can't help look curiosity, cringing wincing result.you can't duplicate like this. broke mold ricky gervais made original series. clear long idea hatched americanize show. actually feel sorry actors. obvious performances american character counterparts original characters would awkward best. cases, downright embarrassing. would liken watching bad drama students trying take something way league. -jm\",\n",
       " \"well know, 5th first shown one national wide tv stations, enough make opinion. already seen thanks internet british version (i mean original one), funny indeed, honestly wholeheartedly say american remake american remakes inane, stupid putrid ever seen since elr. bloody funny, funny all, bring even smile face, known one born without sense humor, know. almost everyone cast empty full boredom, situations simply plain awful funny all. turkey golden globe truly beyond me. well, really. seems public taste america fallen low beyond comprehension. ah yes, golden globe emmy awards simply given every around order better profit.p.s. we're 2, final getting even worse! p.s.s. thanks god, canceled 2 due low raitngs.\",\n",
       " 'sorry another person slag can\\'t help it. i\\'m glad ricky gervais stephen merchants success office countries, surely cant moon version turned out. i\\'ve read saying like else say.in opinion point even basing original main elements make office freaking good lost translation. there\\'s subtlety characters dimensions original. must say find steve carell pretty good, thats comedy timing. rest cast par, cant stand gareth equivalent. annoying!!! original, gareth w*nker... hilarious way..... us version, he\\'s w*nker..... freaking irritating way.must everything top us? make racist? nah cause love seinfeld... best sitcom ever! \"the office\", think element.',\n",
       " 'probably give chance, incredibly uncomfortable probably again. time, british comedies, taken americans, seem make it. \"fawlty towers,\" lasted five minutes, comes mind. appears one them. funny moments, suspect taken right british version.the boss, plain simple, complete moron. totally thinks he\\'s role model hilariously funny, he\\'s sexual harasser makes racist remarks, three stooges impressions, emotionally abusive (firing secretary stealing practical joke bringing tears). great setup fabulous character, found annoying.i\\'m afraid attitude closest temp\\'s: embarrassed, appalled, finding funny.',\n",
       " 'reason got 9 10 pam beesly. jenna fischer leads one undesierable character personalities time.',\n",
       " 'probably good show, michael scott ruins me, hes super annoying baby things love steve carell role.',\n",
       " 'south park one misunderstood, also intelligent shows television.south park satirical look anything western society - politics, media, today\\'s youth, celebrities, violence society, more. however, instead presenting issues are, alternately project exploits four young boys south park, colorado. unfortunately, many people take solely face value, refusing see intelligence - south park admittedly filled racist sexist jokes, along offensive material. problem lies within fact people seem understand concept satire self parody. admit i, myself, one people - years refused \"garbage,\" finally friend forced actually whole episode, realized actually making point.so, done so, go - episode. feel smarter done.',\n",
       " 'south park probably misunderstood tv history.sure, fart jokes really involved depicts wide range current events, pop cultures references, social problems lenses group 10 year olds wacky characters surround them.the fact drawings fairly simple also makes people shy away actually completely unique approach several divisive thought-provoking subjects. name few:\\'the hobbit\" looks photoshopped photos makes society expectations woman\\'s body hard reach amount pressure may put little girls (whilst taking hilarious jabs kanye west kim kardashian)\"you\\'re getting old\" takes nightmare feeling like might mentally older friends may make left outconsole wars episodes dive consumerism involving black friday, video games world\\'s obsession game thronesthese great episodes think anything aged well time.the brilliant thing south park gets produced span week, date scripted - referenced kavanaugh nomination controversy even eventually confirmed.second 10/10 given imdb south park well deserving it.',\n",
       " 'love much! think sometimes lost edge, always managed back game.',\n",
       " 'network: comedy central; genre: animated comedy, satire, parody; content rating: tv-ma (for dark comic content graphic language, sexual content, violence & animated gore); available: dvd; classification: modern classic (star range expanded: 1 - 5);season reviewed: 10+ seasonsstan marsh, kyle broflowfski, eric cartman (sometimes) ill-fated kenny mccormick 8-year-old boys growing amid adult world backward, frozen-over mountain town south park, colorado. adventures, make creators trey parker matt stone\\'s animated comedy \"south park\", include fending everything supernatural demons biggest names hollywood intelligentsia. \"south park\" several things. rude, crude, shocking, smart, decidedly adult, completely original, indulgent whims imaginations creators. also best political, pop culture current event satire television. started something fad - new vulgar, don\\'t-let-the-kids-watch block. real world events changed, \"park\" evolved along them. standing kings top soap box constructed swearing kids, talking poo, homosexual hand puppets hermaphroditic parents; parker stone blessed freedom hit series, hip status network gave freedom whatever want. aged, matured storytelling abilities went shock value fad barbed satire american culture. \"park\" brought life oddly beautiful, vibrantly colored 2-dimensional cut-and-paste animation. episodes masterfully constructed. writing witty showcase parker stone\\'s love pop culture parody, graphic violence, pornography bold willingness take hot button issues week. free-for-all virtuoso nothing nobody safe, every establishment media position gets flipped head every politically correct sacred cow gets eviscerated. that\\'s comedy - stomach barrage extreme scatological humor social satire. vomit jokes fat jokes \"park\" sake substance behind them. nobody better. eric cartman, mr. garrison recently randy marsh (stepping reliably hilarious scene-stealer) classic characters, parker stone gone developed entire town colorful caricatures. made endearing \"the simpsons\", supposed be. characters vacuous idiots, laughs come socially conscious place. straight men stan kyle show\\'s underdeveloped. serve mostly mouthpiece parker stone\\'s conservative libertarian philosophy, often literally giving speech crowd show\\'s finale. single place tv see environmentalists, anti-smoking lobby, illegal immigrants, trial lawyers, news media hysteria, elitist hollywood liberals, abortion, sex ed schools every celebrity mel gibson paris hilton ripped shreds. pulls unique ability deconstruct reconstruct current events better anyone else (notably comedy central\\'s overrated \"the daily jon stewart\"), giving hilarious supernatural explanation without moralizing getting way laughs. take messages loony extremes impossible take seriously.the cherry top seemingly endless quality original songs provided creator\\'s cover band, dvda. skeleton crew writes, directs, animates, voices scores show, independent television purest form. means often labors parker stone\\'s geeky indulgences - episodes center around full-length \"star wars\" parody, class gerbil making way human bowel timmy, handicapped student say name. occasionally, shock value execution creates gagging reaction obscures otherwise brilliant point (\"fat camp\"). i\\'d rather challenges one shackled clichés network mandates. \"south park\" goes shocking ending, better believe actually shock. still, \"south park\" almost impossible recommend casual sense. truly acquired taste, one come support whole-heartedly years despite (and because) absolutely idea expect sitting new episode. rare that? many shows cower corner, begging approval \"south park\" constantly taking risks re-inventing itself. we\\'ve got terrific stunt episodes, episodes built around one joke building single knock-out punch line. use smash-cut ending better anyone (\"there goes neighborhood\"). sometimes experiments detriment 22 minute bore, even almost unheard find 10th still water cooler television. \"south park\" grabs us collar, shakes us around dares even biggest fans come back next week more. monument creative freedom wicked imagination, true (and hilariously funny) sense comic timing, insightful, socially conscious ear smartly reflects point view starving attention mainstream television. hugely entertaining, fiercely visceral, fire-breathing, red-blooded american satire made by, (and appreciated by) jaded discriminating tv viewers. shows like tv today. anywhere. * * * * * / 5',\n",
       " \"know getting negative reviews. people (adults mainly) keep assuming south park nothing wall wall curse words gross jokes. far it. sure, swear occasional gross jokes, also filled quality classic humor. plots genius. offensive. big deal! reason, people assume cartoons little babies, people appear difficulty accepting fact times changed animation kids anymore. face living age shows like south park. can't deal it? that's bad.\",\n",
       " \"cartoons sci-fi long place thought-provoking social commentary take place, unmolested censorship, frequently dismissed least important characteristics. south park intelligent, humorous thought-provoking often ignored decried people judge things deliberately throws face, profanity, simple animation, graphic violence, creators know people like easily offended things, always miss point. simplicity animation, example, criticised people miss point deliberately meant simple, face high-budget major studio cartoons concerned using cgi selling toys anything say. nope, appreciate irony. episodes tackle wide range issues, 9/11 violence television celebrity obsession religion, use comedy, usually best way handle matters.the main characters four children basically mouthpieces creator's opinions, expressing views would sound arrogant coming adults. stan represents liberal viewpoint, friend kyle, practising jew, allows opportunity religious comment. anti-religious? no, fundamentalists like think is. essential message 'believe like, leave alone'. course there's eric cartman, ignorant foul-mouthed selfish redneck, funny hell. sometimes think he's remind us take anyone like seriously. provide show's humour. easily favourite character. characters usually represent majority/opposing views plot requires.like long-running show, episodes better others, something say, funny. creators stone parker 'retool' periodically new characters, try keep current events, enjoyed latest (8th) reasons. i've since beginning, they're making effort let south park go stale.no doubt south park continue derided think important social problem today swearing, yet probably never sat episode. beside offended parent brigade still learned cartoons children. rest us still enjoy hopefully exchanging righteous indignation laughs maybe thought two world live in. never seen south park, listen hype. decide yourself. hopefully glad did.\",\n",
       " 'south park best tv planet earth. actually think better rick morty. but, deserve 10? \\nwhen people rick morty hear south park, think lazy crude (i ripping friends\\' love rick morty shreds). south park actually opposite, intelligent, funny places heart warming sad.\\nthe characters perfect, love cartman, kenny, stan, butters, randy personal favourite kyle. supporting cast memorable characters, good simpsons.\\nthe episodes memorable scenarios ever put television. hilarious episodes like zip lining episode, unexpected episodes like christmas critters episode, episodes exploiting people opinions views world like \"chinpokemon\" \"passion jew\", emotional episodes like \"you\\'re getting old\" personal favourite \"raisins\", dark episodes like \"scott tenerman must die\" important \"osama bin laden farty pants\". there\\'s variety peter griffin something stupid wacky sci-fi adventure rick morty.\\nthe fallen. boring show. but, instead looking present, seasons 1-17 rewatch. many respects stone parker giving us even mother love.',\n",
       " 'south park great cartoon, even occasional pitfalls every season. combines satire, music comedy create terrific masterpiece animated show. trey parker matt stone bring weekly antics inbred mountain town way never done drop dead funny. sometimes seems like seasons better, sometimes seem worse some. episodes like \"chinpokomon\", \"the passion jew\", \"tolerance camp\", \"clubhouse\" classics. episodes funnier every single time see thanks comedy central giving parker stone full control language, nothing bounds.',\n",
       " 'last couple seasons see trey matt slipping trump . obvious quite know it. newest episodes helping redeem though. strong woman needed! look forward next ones much! thanks guys!',\n",
       " 'title review says all. great stories decade decided silly try story arc every year. trouble watching entire new now.',\n",
       " 'although crude, abrasive rough around edges, southpark perhaps greatest modern day political cartoon made. continually surprised creators write, create air within months event \"discussing\".the reason keeps engaged ability remain non-biased illustrate ridiculousness hype around subject matter episodes. smoking racism scientology britany spears, trey parker matt stone find way question subjects normally take face value. times even make fun sake proving point. seems every time discussion current events site southpark support (or someones) point.i ask matter terrible think is, look past obscene jokes interpret/understand underlying meaning show. surprised english teachers supportive given symbolic nature characters.',\n",
       " \"newest south park absolutely awful. garbage potential wasted us election memberberries (which annoying jar jar binks). could've easily matt trey decided reuse jokes again. many things could've destroyed year didn't. harambe episode? music.ly episode? pokemon go episode? jokes even funny thisseason, probably actually laughed maybe 3 times, horrible considering used laugh every second every long ago. give 20 5/10 stars everything else 10/10s, expect seasons 18 19 8.5/10 stars.\",\n",
       " \"honestly, times i've lol'ed cringed times. i'm offended, jokes ignorant misinformed. watcher beware!\",\n",
       " 'reviewing difficult, say least. started delightfully vulgar well-disguised morality plays, variety humor gave everyone something laugh every episode. liked raunchy, consistently satisfied looking smart humor, could enjoy too. though i\\'m exactly sure fell black pit stupidity never recovered, moment personally lost interest \"a million little fibers\". best four principal characters vehicles jokes. decided entire towelie, run funny catch phrase ground first 5 minutes, include sub-plot talking genitalia, knew intelligence gone show. i\\'ve seen episodes came current fans rave (such \"imaginationland\"), remain unimpressed. south park gets high marks first seven seasons are, little exception, enjoyable. decline since eliminates goodness, though, recommend anyone south park current state.',\n",
       " 'quite violent dangerous irrational.\\nfun though..',\n",
       " 'really gotta evaluate times live even south park, remaining voice reason today\\'s tv (let\\'s call that) caves political correctness starts pandering women (not all, hateful insecure ones patted back called \"smart funny\" every 5 minutes).i\\'ve gotten used fact \"male privilege\" one who\\'s allowed bullied, called anything, hit, work hard everything have, see men portrayed badly tv shows advertisements pander women, quiet it. last little shred \"equality\" goes down, know over, society all-time low. men cucked take anything, women insecure always media put men glorifying obnoxious behavior;2016 horrendous display humanity at. media kept lying 2016 election, inexplicably - south park went it. needs facts make up, right? one fact-checks anything, internet favorite tv channel, must 100% true!south park tried continuous storyline once, one many things went wrong, whole plot flat ridiculous. even bottom-tier shows like family guy made chuckle year.one thing\\'s sure, i\\'m buying new south park game keep supporting went rock bottom pandering flames year 19 years praising advertising it. think know show. family guy started good turned liberal pc mess, i\\'d never wager south park would go way. really sudden too. gotta admire laughs gave us past that\\'s over, clearly cancelled dignity, imagine goes next year even worse compliance hateful, insecure nature sjw culture.',\n",
       " 'long enjoyed apolitical stance show. seems though team gotten old, legit political, ruined show. started quit mid-show least half years episodes. completely unwatchable thoroughly un-funny.',\n",
       " \"last two seasons really awful. used looking forward seeing new episode, recently i've turning tv half way through. become focused on, boring tedious, problems real life. even jokes anymore. s19e01 / what's pc whats attitude? live us pop-culture tedious.s19e02 american election? full self righteous comments. s19e03 like commercial anything. who's guy whole foods? come on! belongs family guy. funny! turn tv. unwatchable. recommend first 14-15 seasons south park. they're actually pretty good. personally, i'm done south park\",\n",
       " 'tv used awesome good adventures last episodes bad , bad stop watching changed 10 star rating 1 star last made one funniest comedy shows boring funny cartoon pc principal bad character cartman randy awesome used know people still like know guys agree good anymore',\n",
       " \"i'm time south park fan sense enjoyed starting early teen years. also formed 'dark' humor point thank that. however, become clear run course. maybe i'm getting 'too old' south park abundantly clear run ideas. current (21) worst writing i've seen show. wanna go detail (since i'm bit lazy) check agree. nutshell, can't comment social/political events anymore clever comprehensive manner ability write stand-alone episodes entertaining point. constantly farting opiod dealing elderly woman might fun years ago, falls short comedic value. fact urine stains dress almost stigma aggression, frustration desperation creators dealing writers-block. i'm referencing latest btw. maybe live 'trump era' makes south park loses punch inspiration. maybe getting old. case, south park deserves great finale really hope go bang. worst case scenario..they continue path mediocrity operating shallow shadow former self...\",\n",
       " 'i\\'ve seen 3 episodes laugh. first called \"mature\" content subject matter ironically juvenile, fact juvenile completely relevant term this. toilet humor, gratuitous violence (fake) blood gore, exploitative sex, excessive heavy swearing, see humor that. artwork resembles 1st grader\\'s art project even voice acting juvenile, four main kids celebrity cameos. said good stuff show, that\\'s like trying find gold pile rotting fish. wrong, occasionally like irreverent humor snl, harold kumar (juvenile total extreme), daily name few. approve comedy that\\'s totally exploitative random apparent reason try (unsuccessfully) make someone laugh think.',\n",
       " \"part wants say kids there's rude annoying shrieky screechy-voiced profanity really kids. sense, yes absolute worst worst preteen/teen crowd. heck think there's even preteens kids seen scary. can't imagine inner workings mind must like.if want kid see this, change channel course. irritating program. must seriously ask ourselves, ever air? funny, even amusing smile without laughing, laugh inside...it's lame. ear piercing voices speak objectionable nonsense, like schoolyard kids. worst schoolyard making way onto tv. many kids learning speak.like heck family barney miller 3's company growing up...they real shows. can't people make real show? dragon ball z stuff? guess there's class anymore.0/10\",\n",
       " 'like many good programs...they lost magic. fan trump...but hatred dulled sense humor point almost unwatchable. even finish finale. seasons among biggest turds all..',\n",
       " \"use south park around early 2000's focus episodes pop cultured related items news (e.g - britney spears breakdown 2008 writer guild strikes 2007/08 1% protests 2011). yes south park done pop cultured episodes around early 2000's like queer eye show, they've made hilarious way they've made original episodes, like towelie yes they've made pop cultured reference too, focus completely. look episodes 2006 - 2012, like humancentiepad, nothing craze apple ipad movie 'the human centipede', nothing common! make comedy? plus 'coon friends' special, cartman monster thing killing justin beiber, joke that? everyone hates justin beiber places, like internet, well whole overrated 'beiberfever', original anymore. south park's pop cultured episodes funny around early 2000's. episodes nowadays rely pop cultured comedy make funny. day.\",\n",
       " 'ability create comedy results presenting issues intelligently sarcastic way still conceal fact well enough: conservative manipulative agenda. packaged well gone fans heads swallowed altogether. tries take self-righteous completely falsified neutral role pretends criticizes anyone everyone. take closer look, realize producers/backers clear standpoints. start seeing this, becomes annoying.i actually agree absurdities around us points well, strategy lure fans in. agree laugh horse sh\"\"t gets thrown there, one day find horse sh\"\"t stinks much. actually acceptable would bring home dinner. three types fans opinion. met three types. - easily manipulated ones think intelligent, well meaning, neutral comedy. - airheads think funny cartoon enjoy funny voices basic comical aspects. - ones agree show\\'s (not perfectly) hidden attitude first place.southpark, appreciate opinion shoved throat, cowardly disguised satire. good making fun things could still huge a-h\"\"le. thank me. stopped watching. goes bit advice keep fans: infantile \"i stuff people makes reeaally cool\" stops funny couple seasons. seen stupid things like butt rape rats eating face vomit poop on. big deal. kenny dies, racist sexist jokes, it. boring. think something else shut down.',\n",
       " \"brooklyn nine-nine definitely one favorite ever sitcom. pure comedy humorous stories naturally delivered lovely actors actresses, also consistent storyline sitcoms lack. thing i've noticed makes better exclusion laugh tracks. although, laugh tracks do, certain extent, seem make shows hilarious point even understand joke, laugh. no, cheats like amuses viewers original content.\\nthe also rely one-liners simple jokes, instead, make use characters' personalities actions entertain viewers, pretty smart. might think entertainment personalities last stay eventually people would tired them. however, ongoing characters development, personalities stories often changing, makes fresh time.\",\n",
       " 'please please please cancel show,this funny canceled especially cliff hanger',\n",
       " 'started watching daughter talked it. laughing hard crying sometimes. love characters, play perfectly idea captain keeps straight face time. shows it-that chemistry, good actors, good writing. one shows. sad hear cancelled hopeful hear another company picked up. hope experience goes on.',\n",
       " 'respect different people different tastes music, clothes, women, movies etc...but saying bad really feel like sense humor lacking. i\\'m detective one largest police departments country advise everyone realize closer real police go day csi, garbage procedural shows. cops stuff day...pranking other, busting balls, trying little fun. job gets little heavy sometimes fun would long days. hilarious perfectly timed retorts braugher crews classic. low key lines make hilarious...the top cheap laughs somethkng shows please masses...who stupid. pay attention underlying comedy...its priceless.......\"terry love yogurt\"',\n",
       " 'good fun good someone enjoyable tv great stories characters please worth',\n",
       " 'spoiler alert: one favorite shows. incredible blend lovable hilarious characters. fun. many laugh loud moments. even second full find laughing loudly delight great gem show. must imo',\n",
       " 'made profile post this.no words needed.cool cool cool cool',\n",
       " \"b99 rare gem among serial comedy duds. smart fast-paced never fails make laugh, smile, sometimes cry touching human moments. comfort love rewatching running gags, callbacks previous episodes, see character development grow people ways feel forced contrived. characters start fairly rough jagged individual struggles grow squad introduction capt. holt. feature, bug! point they're flawed! listen anyone rates lower seven, people can't bothered spell names right (racist much?).\",\n",
       " 'cold opens b99 always hilarious. love much. great job balancing comedy personal issues. consistently funny every single week.',\n",
       " \"brooklyn nine nine new age police procedural comedy excellent cast spectacular production. makes great, rather something trivial. show, comedy, peculiarly enough,doesn't use laugh track live audience record laughs. fact, provide us sketch viewer decide whether funny enough enjoy (laugh) not.the credited humorous subplots within episode.the cast also portray characters outstandingly witty fashion. writer's vision comic police station right money. may biased think flaws. amazing show. one 2013's best.\",\n",
       " \"tend find things kids adult shows whole family want pull hair listening peppa pig's annoying voice. 99 trick us. entire 5 seasons many months entertained. found wanting next family time... ended watching episodes twice.generally bunch cops trying jobs. less situation dialogue delivered. come serious situations every awhile even handled comedic dialogue shows. well done, waiting seasons.\",\n",
       " 'first two seasons funny...then started liberal hollywood...and stand liberal bs.',\n",
       " \"i'm actual good funny options. bad, nothing special either. ok looking easy entertainment.\",\n",
       " 'apart opening episodes jake rosa released jail severe let down. seem looking multiple storylines going particular. bring back 99!',\n",
       " 'liked first 4 seasons 5th justice name. hence, stopped watching 1st 6.',\n",
       " 'many shows favourites started weak opinion. personally enjoy first parks recreation office (us) however two favourite shows. however already seems pretty funny great character room growth and, although personally believe 9/10 think good chance given time could one comedy greats (and office (us) himym ending.) think fans shows like ones mentioned definitely keep eye one.',\n",
       " 'brooklyn 99 nice little distraction, mainly decent collection actors -- exception chelsea peretti; character is, without doubt annoying character group (intentionally) sports annoying characters. rest group, works; her, flames miserably. worst possible thing happen like consistently annoying unfunny character. peretti\\'s character exactly -- consistently annoying almost never funny.the rest cast pretty well, despite yet another lame jewish fumbling bumbling male lead, person adam-sandler-clone andy samberg. credit, samberg\\'s character least comes pinch, although wade repeated stuttering \"cool cool cool cool cool cool cool cool\" schtick, anything cool. still, he\\'s better outright bumbler course 5 seasons works, least part -- enough earn 6 10 rating book.the truly coolest character rosa, portrayed stephanie beatriz. commands definite screen presence deadpan something behold. (and drops actually smiles, like sun breaking clouds.)andre braugher pro, nice see comic role. terry crews brings decent brains/brawn element ensemble. melissa fumero like mary ann compared beatriz\\'s ginger. (in fact, comparisons gilligan\\'s island well, peralta like gilligan captain holt like skipper.)the highlight is, without doubt, annual halloween episodes. great writing never miss. rest shows hit miss. hits misses, great distraction. is, entertaining, days puts cut rest. epic, pits either. considering many really bad shows there, brooklyn 99 worth watch.',\n",
       " 'one top 10 sitcoms like alot but\\neverything related feminists gays huuuuuge deal. sometimes like based around topics supposed based stuff. also times silly/absurd/not smooth.boil jena useless. hate them. waste time characters irritating. sometimes rosa well. acts tough manly.\\none wise great woman said: women want act like men lose femininity greatest charm women.(tasha tudor)\\nother amazing.',\n",
       " 'new total crap...i remember b99 entire scenes dedicated discussing intricate disgusting details pregnancy & labor... guess credit nbc various weird agendas that.',\n",
       " \"tried watching couple friends said really funny. laugh humor either childish dry unoriginal. terrible writing terrible filming terrible acting literally awful. people find funny, one single redeeming quality surprised lasts longer kind laughable bad way. take dry stupid excuse sitcom air already would rather disney channel garbage. ashame well there's couple actors i've liked things deliver way show. absolute stupidity enough said.\",\n",
       " \"i'm halfway first annoying ever. characters matter soo hateable makes wanna quit watching despite good spots comedy good characters like terry holt.\\nthe lead, jake peralta self centered everything power reward character. lead despicable, can't help quit series. characters like santiago, charles meh.. although overall comedy average good parts, stupidity characters intolerable became suffocated realized faces 5 seasons. luckily somehow boarded hypetrain know casual fans are, even bad coz everyone talking it. wayy overrated.\",\n",
       " \"first episodes. based reviews thought would amazing find least bit funny like characters. know sense humour tune people rating 10/10. maybe prefer british comedy like 'cuckoo', though, saying that, really enjoy 'parks recreation'. i'd give comedy pass try less hyped-up programs.\",\n",
       " \"maybe would better dumped adam sandberg. top funny. stupid childish antics make roll eyes. attempt forced comedy painful. rest cast also fairly weak, let's try dumping sandberg completely unfunny antics first. really looking forward first saw previews. unlike movie trailer, tv spots funny parts context. see lines context, become unfunny. amazing feat. first floored laugh once. gave second chance, again, failed even crack smile. looking back episodes, dislike centers around sandberg.\",\n",
       " \"i've huge fan since s1:e1 network change-up amount comedy dropped exponentially. amount social messaging agenda pushing increased exponentially, however.\",\n",
       " 'there\\'s excuse ignore what\\'s going go \"hiatus\" spew copaganda us. needs end entire case quitting force join people.**campaign fire andy samberg favor good actor less selfish person**s5-6: packed lazy writing \"screaming time; constant non-stop \"setup-punchline\" style show. shows bad, poorly written, generic, jake-centric. jake gets vast majority lines. even speed video andy\\'s extraneous, unfunny lines.\\ns1-4 included exposition, stories featured interesting characters more, sensible reasonable pace quick witty, gave way dialogue good actors actresses.s5+ like shouted generic boring white boy ever met 30 solid minutes (including commercials). something embarrassed say liked.if they\\'re going put effort thought anymore, stopped got canceled first time.']"
      ]
     },
     "execution_count": 334,
     "metadata": {},
     "output_type": "execute_result"
    }
   ],
   "source": [
    "#Check output\n",
    "output"
   ]
  },
  {
   "cell_type": "code",
   "execution_count": 335,
   "metadata": {},
   "outputs": [],
   "source": [
    "#create vectorizer\n",
    "vectorizer = TfidfVectorizer(stop_words={'english'})"
   ]
  },
  {
   "cell_type": "code",
   "execution_count": 336,
   "metadata": {},
   "outputs": [],
   "source": [
    "#Perform tf-idf on reviews\n",
    "links_vect = vectorizer.fit_transform(output)"
   ]
  },
  {
   "cell_type": "code",
   "execution_count": 337,
   "metadata": {},
   "outputs": [
    {
     "data": {
      "text/plain": [
       "(100, 2547)"
      ]
     },
     "execution_count": 337,
     "metadata": {},
     "output_type": "execute_result"
    }
   ],
   "source": [
    "#Look at shape\n",
    "links_vect.shape"
   ]
  },
  {
   "cell_type": "code",
   "execution_count": 338,
   "metadata": {},
   "outputs": [],
   "source": [
    "#https://scikit-learn.org/stable/modules/generated/sklearn.cluster.KMeans.html\n",
    "#https://scikit-learn.org/stable/modules/clustering.html#k-means\n",
    "#https://matplotlib.org/tutorials/introductory/pyplot.html\n",
    "#################################inertia_ is the sum of squared distance from cluster center#################################\n",
    "\n",
    "from sklearn.cluster import KMeans\n",
    "import matplotlib.pyplot as plt #import matplotlib to examine intracluster distnaces\n",
    "\n",
    "#Cluster\n",
    "kmeans = KMeans(n_clusters=5, random_state=11)\n",
    "clustered = kmeans.fit(links_vect)"
   ]
  },
  {
   "cell_type": "code",
   "execution_count": 339,
   "metadata": {},
   "outputs": [
    {
     "data": {
      "text/plain": [
       "90.5436667012645"
      ]
     },
     "execution_count": 339,
     "metadata": {},
     "output_type": "execute_result"
    }
   ],
   "source": [
    "#examine distance\n",
    "clustered.inertia_"
   ]
  },
  {
   "cell_type": "code",
   "execution_count": 340,
   "metadata": {},
   "outputs": [],
   "source": [
    "#Since we don't really know what 90.5 means, let's chart some different K's and see where the elbow is\n",
    "\n",
    "dist = []\n",
    "for i in range(1, 15):\n",
    "    kmeans = KMeans(n_clusters=i, random_state=11)\n",
    "    clustered = kmeans.fit(links_vect)\n",
    "    dist.append(clustered.inertia_)"
   ]
  },
  {
   "cell_type": "code",
   "execution_count": 341,
   "metadata": {},
   "outputs": [
    {
     "data": {
      "text/plain": [
       "Text(0, 0.5, 'Sum of Squared Distance (intracluster)')"
      ]
     },
     "execution_count": 341,
     "metadata": {},
     "output_type": "execute_result"
    },
    {
     "data": {
      "image/png": "[encoded data removed]",
      "text/plain": [
       "<Figure size 432x288 with 1 Axes>"
      ]
     },
     "metadata": {
      "needs_background": "light"
     },
     "output_type": "display_data"
    }
   ],
   "source": [
    "#plot the intracluster distances\n",
    "plt.plot(range(1,15), dist)\n",
    "plt.xlabel('clusters')\n",
    "plt.ylabel('Sum of Squared Distance (intracluster)')"
   ]
  },
  {
   "cell_type": "markdown",
   "metadata": {},
   "source": [
    "Looks like we may have something from 2-4, and something around 6.  We will try both of those."
   ]
  },
  {
   "cell_type": "code",
   "execution_count": 342,
   "metadata": {},
   "outputs": [],
   "source": [
    "#Examine 3 Clusters\n",
    "kmeans = KMeans(n_clusters=3, random_state=11)\n",
    "clustered = kmeans.fit(links_vect)"
   ]
  },
  {
   "cell_type": "code",
   "execution_count": 343,
   "metadata": {},
   "outputs": [
    {
     "data": {
      "text/plain": [
       "array([2, 1, 2, 0, 0, 0, 2, 2, 1, 0, 0, 2, 2, 0, 2, 2, 2, 0, 1, 0, 0, 1,\n",
       "       2, 2, 1, 1, 1, 0, 0, 0, 0, 1, 0, 1, 0, 1, 1, 1, 0, 2, 2, 2, 1, 2,\n",
       "       1, 2, 0, 1, 1, 0, 2, 2, 1, 2, 2, 2, 2, 2, 2, 0, 2, 2, 2, 2, 0, 2,\n",
       "       2, 2, 0, 2, 0, 2, 2, 2, 2, 0, 0, 0, 0, 0, 0, 2, 1, 1, 1, 2, 2, 0,\n",
       "       1, 2, 0, 0, 0, 1, 2, 0, 2, 1, 2, 0])"
      ]
     },
     "execution_count": 343,
     "metadata": {},
     "output_type": "execute_result"
    }
   ],
   "source": [
    "clustered.labels_"
   ]
  },
  {
   "cell_type": "code",
   "execution_count": 344,
   "metadata": {},
   "outputs": [
    {
     "data": {
      "text/plain": [
       "(100,)"
      ]
     },
     "execution_count": 344,
     "metadata": {},
     "output_type": "execute_result"
    }
   ],
   "source": [
    "clustered.labels_.shape"
   ]
  },
  {
   "cell_type": "code",
   "execution_count": 351,
   "metadata": {},
   "outputs": [
    {
     "name": "stdout",
     "output_type": "stream",
     "text": [
      "cluster: 0\n",
      "office\n",
      "pam\n",
      "michael\n",
      "leads\n",
      "character\n",
      "jenna\n",
      "jim\n",
      "time\n",
      "scott\n",
      "fischer\n",
      "cluster: 1\n",
      "version\n",
      "american\n",
      "original\n",
      "british\n",
      "bad\n",
      "office\n",
      "would\n",
      "uk\n",
      "funny\n",
      "people\n",
      "cluster: 2\n",
      "please\n",
      "fun\n",
      "this\n",
      "enjoyable\n",
      "karl\n",
      "urban\n",
      "good\n",
      "far\n",
      "superheroes\n",
      "simon\n"
     ]
    }
   ],
   "source": [
    "#https://pythonprogramminglanguage.com/kmeans-text-clustering/\n",
    "\n",
    "#Print top words of each cluster\n",
    "order_centroids = kmeans.cluster_centers_.argsort()[:, ::-1]\n",
    "words = vectorizer.get_feature_names()\n",
    "for i in range(3):\n",
    "    print(\"cluster:\", i)\n",
    "    for j in order_centroids[i, :10]:\n",
    "        print(words[j])"
   ]
  },
  {
   "cell_type": "markdown",
   "metadata": {},
   "source": [
    "# 2.a)\n",
    "\n",
    "> Try to write a short phrase to characterize (give a natural interpretation of) what each cluster is generally centered on semantically. Is this hard to do in some cases? If so, make note of that fact. "
   ]
  },
  {
   "cell_type": "markdown",
   "metadata": {},
   "source": [
    "These clusters are a little bit difficult to pin down semantically.  Cluster 0 is obviously referring to the show 'The Office,' but it seems like cluster 1 is as well.  However, cluster one starts to get into some sentiment with words like 'bad' and 'funny.'  Cluster 2 seems to contian positive words such as 'fun,' 'enjoyable,' and 'good,' so maybe it is clustering on those."
   ]
  },
  {
   "cell_type": "markdown",
   "metadata": {},
   "source": [
    "#### 6 clusters"
   ]
  },
  {
   "cell_type": "code",
   "execution_count": 346,
   "metadata": {},
   "outputs": [
    {
     "name": "stdout",
     "output_type": "stream",
     "text": [
      "cluster: 0\n",
      "good\n",
      "enjoyable\n",
      "bad\n",
      "like\n",
      "seasons\n",
      "fun\n",
      "far\n",
      "liberal\n",
      "first\n",
      "this\n",
      "cluster: 1\n",
      "original\n",
      "version\n",
      "american\n",
      "british\n",
      "bad\n",
      "can\n",
      "seen\n",
      "shows\n",
      "one\n",
      "funny\n",
      "cluster: 2\n",
      "park\n",
      "south\n",
      "jokes\n",
      "episodes\n",
      "ve\n",
      "people\n",
      "episode\n",
      "like\n",
      "the\n",
      "actually\n",
      "cluster: 3\n",
      "show\n",
      "love\n",
      "office\n",
      "one\n",
      "michael\n",
      "funny\n",
      "great\n",
      "comedy\n",
      "even\n",
      "characters\n",
      "cluster: 4\n",
      "superhero\n",
      "great\n",
      "interesting\n",
      "first\n",
      "happened\n",
      "whole\n",
      "came\n",
      "excellent\n",
      "shoes\n",
      "don\n",
      "cluster: 5\n",
      "cool\n",
      "superheroes\n",
      "this\n",
      "done\n",
      "before\n",
      "like\n",
      "driven\n",
      "entertaining\n",
      "kids\n",
      "character\n"
     ]
    }
   ],
   "source": [
    "#Examine 6 Clusters\n",
    "kmeans = KMeans(n_clusters=6, random_state=11)\n",
    "clustered = kmeans.fit(links_vect)\n",
    "clustered.labels_\n",
    "#https://pythonprogramminglanguage.com/kmeans-text-clustering/\n",
    "\n",
    "#Print top words of each cluster\n",
    "order_centroids = kmeans.cluster_centers_.argsort()[:, ::-1]\n",
    "words = vectorizer.get_feature_names()\n",
    "for i in range(6):\n",
    "    print(\"cluster:\", i)\n",
    "    for j in order_centroids[i, :10]:\n",
    "        print(words[j])"
   ]
  },
  {
   "cell_type": "markdown",
   "metadata": {},
   "source": [
    "# 2.b)\n",
    "\n",
    "> Try to write a short phrase to characterize (give a natural interpretation of) what each cluster is generally centered on semantically. Is this hard to do in some cases? If so, make note of that fact. "
   ]
  },
  {
   "cell_type": "markdown",
   "metadata": {},
   "source": [
    "Cluster 0 seems to contain a lot of sentiment, with the top there words being ‘good,’ ‘enjoyable,’ and ‘bad.’  It contains others such as ‘fun’ and ‘like’ as well.  Cluster 1 seems to be centered around the US vs UK version of ‘The Office,’ with the top four words being ‘original,’ ‘version,’ ‘american,’ and ‘british.’  Cluster 2 seems to be centered around ‘South Park.”  Cluster 3 seems to be centered around “The Office” again, but more towards the sentiment around the show with words like ‘great’, ‘love,’ ‘funny,’ and ‘comedy.’  Cluster 4 seems to be centered on the show ‘The Boys’ given the top word being ‘superhero.’  It also contains some sentiment with words like ‘great,’ ‘interesting,’ and ‘excellent.’   Cluster 5 seems to be extremely similar, mentioning superheroes and sentiment words such as ‘cool’ and ‘entertaining.’   "
   ]
  },
  {
   "cell_type": "markdown",
   "metadata": {},
   "source": [
    "# 3. \n",
    "\n",
    ">Explain which of the two clustering results from question 1 is preferable (if one of them is), and why. "
   ]
  },
  {
   "cell_type": "markdown",
   "metadata": {},
   "source": [
    "I would go with the clustering results form k=6.  We get a lower inertia between the observaitions within clusters, and the top words of  each cluster seem to be better separated than k=3. "
   ]
  },
  {
   "cell_type": "markdown",
   "metadata": {},
   "source": [
    "# Submit all of your inputs and outputs and your code for this assignment, along with a brief written explanation of your findings. "
   ]
  },
  {
   "cell_type": "markdown",
   "metadata": {},
   "source": [
    "Overall, I was surprised at the inertia graph and how it was almost perfectly linear. After thinking about it, it does make some sense given the shows were all from the same genre.  I also ran into a bit of trouble with sklearn's TfidfVectorizer.  It was branded as fully pre-processing the text, but it was not removing any stop words, so I had to build that into the review aggregator loop.  \n",
    "\n",
    "It seems that three clusters was not enough, but 6 may have been too much given the overlp with clusters 4 and 5.  It would be difficult to turly zero this in with Kmeans, as there are no drastic change in sum of squared distance as we increase the number of clusters."
   ]
  },
  {
   "cell_type": "code",
   "execution_count": null,
   "metadata": {},
   "outputs": [],
   "source": []
  }
 ],
 "metadata": {
  "kernelspec": {
   "display_name": "Python 3",
   "language": "python",
   "name": "python3"
  },
  "language_info": {
   "codemirror_mode": {
    "name": "ipython",
    "version": 3
   },
   "file_extension": ".py",
   "mimetype": "text/x-python",
   "name": "python",
   "nbconvert_exporter": "python",
   "pygments_lexer": "ipython3",
   "version": "3.7.4"
  }
 },
 "nbformat": 4,
 "nbformat_minor": 2
}

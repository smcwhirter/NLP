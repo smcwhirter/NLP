{
 "cells": [
  {
   "cell_type": "markdown",
   "metadata": {},
   "source": [
    "# Sean McWhirter\n",
    "# NLP Homework 3\n"
   ]
  },
  {
   "cell_type": "markdown",
   "metadata": {},
   "source": []
  },
  {
   "cell_type": "code",
   "execution_count": 2,
   "metadata": {},
   "outputs": [
    {
     "name": "stderr",
     "output_type": "stream",
     "text": [
      "[nltk_data] Downloading package stopwords to\n",
      "[nltk_data]     C:\\Users\\seans\\AppData\\Roaming\\nltk_data...\n",
      "[nltk_data]   Package stopwords is already up-to-date!\n"
     ]
    }
   ],
   "source": [
    "from __future__ import division\n",
    "import nltk\n",
    "from nltk.metrics import *\n",
    "import re\n",
    "from nltk.corpus import stopwords\n",
    "from nltk.tokenize import word_tokenize\n",
    "from string import punctuation\n",
    "import pprint\n",
    "from difflib import SequenceMatcher\n",
    "nltk.download('stopwords')\n",
    "from nltk.stem.porter import *"
   ]
  },
  {
   "cell_type": "markdown",
   "metadata": {},
   "source": [
    "## 1.\tCompare your given name with your nickname (if you don’t have a nickname, invent one for this assignment) by answering the following questions:\n",
    ">a.\tWhat is the edit distance between your nickname and your given name?\n",
    "\n",
    "\n"
   ]
  },
  {
   "cell_type": "code",
   "execution_count": 3,
   "metadata": {},
   "outputs": [
    {
     "name": "stdout",
     "output_type": "stream",
     "text": [
      "The edit distance from my name to my nickname is 5.\n"
     ]
    }
   ],
   "source": [
    "name = 'Sean'\n",
    "nickname = 'Seanathon' #Made-up nickname\n",
    "\n",
    "#Using edit_distance metric from nltk.metrics\n",
    "distance = edit_distance(name, nickname)\n",
    "print(\"The edit distance from my name to my nickname is {}.\".format(distance))"
   ]
  },
  {
   "cell_type": "markdown",
   "metadata": {},
   "source": [
    ">b.\tWhat is the percentage string match between your nickname and your given name?"
   ]
  },
  {
   "cell_type": "code",
   "execution_count": 4,
   "metadata": {},
   "outputs": [
    {
     "name": "stdout",
     "output_type": "stream",
     "text": [
      "The percentage string match between my nickname and name is 61.5%.\n"
     ]
    }
   ],
   "source": [
    "#using SequenceMatcher from difflib\n",
    "#https://docs.python.org/3/library/difflib.html#difflib.SequenceMatcher\n",
    "string_match = SequenceMatcher(None, nickname, name)\n",
    "print(\"The percentage string match between my nickname and name is {}%.\".format(round(string_match.ratio()*100, 1)))"
   ]
  },
  {
   "cell_type": "markdown",
   "metadata": {},
   "source": [
    "## 2.\tFind a friend (or family member or classmate) who you know has read a certain book. Without your friend knowing, copy the first two sentences of that book. Now rewrite the words from those sentences, excluding stop words. Now tell your friend to guess which book the words are from by reading them just that list of words. Did you friend correctly guess the book on the first try? What did he or she guess? Explain why you think you friend either was or was not able to guess the book from hearing the list of words. "
   ]
  },
  {
   "cell_type": "code",
   "execution_count": 5,
   "metadata": {},
   "outputs": [
    {
     "name": "stdout",
     "output_type": "stream",
     "text": [
      "Book: The Giver\n",
      "\n",
      "Originial sentence:\n",
      " It was almost December, and Jonas was beginning to be frightened. No. Wrong word, Jonas thought. \n",
      "\n",
      "Sentence without stopwords:\n",
      " It almost December , Jonas beginning frightened . No . Wrong word , Jonas thought .\n"
     ]
    }
   ],
   "source": [
    "#https://stackabuse.com/removing-stop-words-from-strings-in-python/#:~:text=Using%20Python's%20NLTK%20Library&text=NLTK%20supports%20stop%20word%20removal,stop%20words%20provided%20by%20NLTK.\n",
    "\n",
    "#The Giver\n",
    "#Note, I used \n",
    "first_sents = \"It was almost December, and Jonas was beginning to be frightened. No. Wrong word, Jonas thought.\"\n",
    "\n",
    "giver_tkized = word_tokenize(first_sents) #Tokenized text\n",
    "giver_tkized_nsw = [x for x in giver_tkized if x not in stopwords.words()] #Stop words removed\n",
    "giver_reconstructed = \" \".join(giver_tkized_nsw)\n",
    "print(\"Book: The Giver\\n\")\n",
    "print(\"Originial sentence:\\n\", first_sents, \"\\n\")\n",
    "print(\"Sentence without stopwords:\\n\", giver_reconstructed)\n"
   ]
  },
  {
   "cell_type": "markdown",
   "metadata": {},
   "source": [
    "I used \"The Giver\" which my wife read in the last six months.  I technically used the first three sentences since the second sentence is \"No.\" which doesn't have any stopwords.  When I showed this to her, she was able to identifythe book, mostly based on the the name \"Jonas.\"  She was confused at first reading the sentences without stopwords, but once she understood what was going on, she was able to identify the book preety quickl."
   ]
  },
  {
   "cell_type": "markdown",
   "metadata": {},
   "source": [
    "## 3.\tRun one of the stemmers available in Python. Run the same two sentences from question 2 above through the stemmer and show the results. How many of the outputted stems are valid morphological roots of the corresponding words? Express this answer as a percentage."
   ]
  },
  {
   "cell_type": "code",
   "execution_count": 11,
   "metadata": {},
   "outputs": [
    {
     "name": "stdout",
     "output_type": "stream",
     "text": [
      "Original sentence:\n",
      " It was almost December and Jonas was beginning to be frightened No Wrong word Jonas thought \n",
      "\n",
      "Stemmed sentences:\n",
      " It wa almost decemb and jona wa begin to be frighten No wrong word jona thought \n",
      "\n",
      "\n",
      "The percentage of valid morpholigical roots from stemmed words is: 28.57 %\n"
     ]
    }
   ],
   "source": [
    "#Porter Stemmer\n",
    "#https://www.nltk.org/howto/stem.html\n",
    "#https://stackoverflow.com/questions/53664775/how-to-remove-punctuation-in-python\n",
    "\n",
    "p_stem = PorterStemmer()\n",
    "punc= \".,\"\n",
    "import string\n",
    "\n",
    "#Put everything in lowercase\n",
    "#first_sents = first_sents.lower()\n",
    "\n",
    "#Remove punctuation for stemmer\n",
    "for i in first_sents:\n",
    "    for j in punc:\n",
    "        if i in punc:\n",
    "            first_sents = first_sents.replace(i, \"\")\n",
    "            \n",
    "#Put sentence into a list for stemmer\n",
    "first_sents_list = first_sents.split()\n",
    "\n",
    "#Apply stemmer\n",
    "stemmed = [p_stem.stem(x) for x in first_sents_list]\n",
    "\n",
    "#Reconstruct sentence\n",
    "stemmed_reconstrcuted = \" \".join(stemmed)\n",
    "\n",
    "print(\"Original sentence:\\n\", first_sents, \"\\n\")\n",
    "print(\"Stemmed sentences:\\n\", stemmed_reconstrcuted, \"\\n\\n\")\n",
    "\n",
    "#Valid morpholigical roots\n",
    "words_stemmed = 7 #7 Words were stemmed\n",
    "valid_roots = 2 #2 are valid mophological roots\n",
    "\n",
    "print(\"The percentage of valid morpholigical roots from stemmed words is:\", round((valid_roots/words_stemmed)*100,2), \"%\")"
   ]
  },
  {
   "cell_type": "code",
   "execution_count": null,
   "metadata": {},
   "outputs": [],
   "source": []
  }
 ],
 "metadata": {
  "kernelspec": {
   "display_name": "Python 3",
   "language": "python",
   "name": "python3"
  },
  "language_info": {
   "codemirror_mode": {
    "name": "ipython",
    "version": 3
   },
   "file_extension": ".py",
   "mimetype": "text/x-python",
   "name": "python",
   "nbconvert_exporter": "python",
   "pygments_lexer": "ipython3",
   "version": "3.7.4"
  }
 },
 "nbformat": 4,
 "nbformat_minor": 2
}
